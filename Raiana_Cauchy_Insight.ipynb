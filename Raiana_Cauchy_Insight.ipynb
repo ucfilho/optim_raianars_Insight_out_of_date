{
  "nbformat": 4,
  "nbformat_minor": 0,
  "metadata": {
    "colab": {
      "name": "Raiana_Cauchy_Insight.ipynb",
      "provenance": [],
      "collapsed_sections": [],
      "include_colab_link": true
    },
    "kernelspec": {
      "name": "python3",
      "display_name": "Python 3"
    }
  },
  "cells": [
    {
      "cell_type": "markdown",
      "metadata": {
        "id": "view-in-github",
        "colab_type": "text"
      },
      "source": [
        "<a href=\"https://colab.research.google.com/github/ucfilho/optim_raianars_Insight_out_of_date/blob/master/Raiana_Cauchy_Insight.ipynb\" target=\"_parent\"><img src=\"https://colab.research.google.com/assets/colab-badge.svg\" alt=\"Open In Colab\"/></a>"
      ]
    },
    {
      "cell_type": "code",
      "metadata": {
        "id": "iPdp4HQcLGfC",
        "colab_type": "code",
        "colab": {}
      },
      "source": [
        "import numpy as np\n",
        "import matplotlib.pyplot as plt\n",
        "from scipy.stats import cauchy\n",
        "import random"
      ],
      "execution_count": 0,
      "outputs": []
    },
    {
      "cell_type": "code",
      "metadata": {
        "id": "pDP2wDB2QPDG",
        "colab_type": "code",
        "colab": {}
      },
      "source": [
        "# http://web.ipac.caltech.edu/staff/fmasci/home/mystats/CauchyVsGaussian.pdf"
      ],
      "execution_count": 0,
      "outputs": []
    },
    {
      "cell_type": "code",
      "metadata": {
        "id": "wt0rtl-kLXjw",
        "colab_type": "code",
        "outputId": "a782c3a2-db87-4d34-f01b-3a073f530d04",
        "colab": {
          "base_uri": "https://localhost:8080/",
          "height": 269
        }
      },
      "source": [
        "def uniform_proposal(x, delta=2.0):\n",
        "    return np.random.uniform(x - delta, x + delta)\n",
        "\n",
        "def metropolis_sampler(p, nsamples, proposal=uniform_proposal):\n",
        "    x = 1 # start somewhere\n",
        "\n",
        "    for i in range(nsamples):\n",
        "        trial = proposal(x) # random neighbour from the proposal distribution\n",
        "        acceptance = p(trial)/p(x)\n",
        "\n",
        "        # accept the move conditionally\n",
        "        if np.random.uniform() < acceptance:\n",
        "            x = trial\n",
        "\n",
        "        yield x\n",
        "\n",
        "def cauchy(x, mu, gamma):\n",
        "    return 1./(np.pi*gamma*(1.+((x-mu)/gamma)**2))\n",
        "\n",
        "p = lambda x: cauchy(x, -2, 0.5)\n",
        "samples = list(metropolis_sampler(p, 100000))\n",
        "\n",
        "plt.hist(samples, bins=100)\n",
        "plt.show()\n"
      ],
      "execution_count": 0,
      "outputs": [
        {
          "output_type": "display_data",
          "data": {
            "image/png": "[encoded data removed]",
            "text/plain": [
              "<Figure size 432x288 with 1 Axes>"
            ]
          },
          "metadata": {
            "tags": []
          }
        }
      ]
    },
    {
      "cell_type": "code",
      "metadata": {
        "id": "Ex5gw6QAS0GF",
        "colab_type": "code",
        "outputId": "38cfc78d-97aa-4297-b2b6-68defc204d08",
        "colab": {
          "base_uri": "https://localhost:8080/",
          "height": 269
        }
      },
      "source": [
        "p = lambda x: cauchy(x, 0.5, 0.1)\n",
        "samples = list(metropolis_sampler(p, 10000))\n",
        "\n",
        "plt.hist(samples, bins=100)\n",
        "plt.show()\n"
      ],
      "execution_count": 0,
      "outputs": [
        {
          "output_type": "display_data",
          "data": {
            "image/png": "[encoded data removed]",
            "text/plain": [
              "<Figure size 432x288 with 1 Axes>"
            ]
          },
          "metadata": {
            "tags": []
          }
        }
      ]
    },
    {
      "cell_type": "code",
      "metadata": {
        "id": "jKJGkgPJTWEu",
        "colab_type": "code",
        "outputId": "95850273-c0bb-413a-dddf-87579c27836b",
        "colab": {
          "base_uri": "https://localhost:8080/",
          "height": 577
        }
      },
      "source": [
        "x=np.array(samples)\n",
        "x= x[(x>0) & (x<1)]  # truncate distribution so it plots well\n",
        "#plt.hist(x, bins=100)\n",
        "#plt.show()\n",
        "y=list(x)\n",
        "num=len(x)\n",
        "for i in range(10):\n",
        "  Ind=random.sample(range(num), 10)\n",
        "  print(np.mean(x[Ind]))\n",
        "  print(np.mean(np.array(random.sample(y, 10))))\n",
        "  print(\"=====================\")\n"
      ],
      "execution_count": 0,
      "outputs": [
        {
          "output_type": "stream",
          "text": [
            "0.4500829370700135\n",
            "0.4781923580173288\n",
            "=====================\n",
            "0.5174435299007951\n",
            "0.46915326508578997\n",
            "=====================\n",
            "0.5122402001034104\n",
            "0.4687443363001913\n",
            "=====================\n",
            "0.49774700970608593\n",
            "0.5257803787295583\n",
            "=====================\n",
            "0.5271980891976545\n",
            "0.3714760724796049\n",
            "=====================\n",
            "0.5311830202425567\n",
            "0.5193571902128745\n",
            "=====================\n",
            "0.5728682003049219\n",
            "0.4483825449857074\n",
            "=====================\n",
            "0.5804866973776533\n",
            "0.5112622038045739\n",
            "=====================\n",
            "0.515268549810995\n",
            "0.5707169728335035\n",
            "=====================\n",
            "0.4849293856827154\n",
            "0.471465803830111\n",
            "=====================\n"
          ],
          "name": "stdout"
        }
      ]
    },
    {
      "cell_type": "code",
      "metadata": {
        "id": "RaHTifM6al0x",
        "colab_type": "code",
        "outputId": "1e38e312-dfa4-49bf-c12e-92d4bb5958f3",
        "colab": {
          "base_uri": "https://localhost:8080/",
          "height": 36
        }
      },
      "source": [
        "print(x)"
      ],
      "execution_count": 0,
      "outputs": [
        {
          "output_type": "stream",
          "text": [
            "[0.51935494 0.51935494 0.51935494 ... 0.30273063 0.30273063 0.30273063]\n"
          ],
          "name": "stdout"
        }
      ]
    },
    {
      "cell_type": "code",
      "metadata": {
        "id": "oAO_hWgdZery",
        "colab_type": "code",
        "colab": {}
      },
      "source": [
        ""
      ],
      "execution_count": 0,
      "outputs": []
    },
    {
      "cell_type": "code",
      "metadata": {
        "colab_type": "code",
        "outputId": "277c6809-f851-4713-b0a7-31fc75805e4a",
        "id": "zwynG0G-TfjM",
        "colab": {
          "base_uri": "https://localhost:8080/",
          "height": 269
        }
      },
      "source": [
        "p = lambda x: cauchy(x, 0.5, 0.1)\n",
        "samples = list(metropolis_sampler(p, 100000))\n",
        "\n",
        "plt.hist(samples, bins=100)\n",
        "plt.show()\n"
      ],
      "execution_count": 0,
      "outputs": [
        {
          "output_type": "display_data",
          "data": {
            "image/png": "[encoded data removed]",
            "text/plain": [
              "<Figure size 432x288 with 1 Axes>"
            ]
          },
          "metadata": {
            "tags": []
          }
        }
      ]
    },
    {
      "cell_type": "code",
      "metadata": {
        "id": "2loy06gIQriK",
        "colab_type": "code",
        "outputId": "5488de95-d3e2-4d58-ccc1-639899a602c9",
        "colab": {
          "base_uri": "https://localhost:8080/",
          "height": 269
        }
      },
      "source": [
        "s = np.random.standard_cauchy(1000000)\n",
        "s = s[(s>-1) & (s<1)]  # truncate distribution so it plots well\n",
        "plt.hist(s, bins=100)\n",
        "plt.show()"
      ],
      "execution_count": 0,
      "outputs": [
        {
          "output_type": "display_data",
          "data": {
            "image/png": "[encoded data removed]",
            "text/plain": [
              "<Figure size 432x288 with 1 Axes>"
            ]
          },
          "metadata": {
            "tags": []
          }
        }
      ]
    },
    {
      "cell_type": "code",
      "metadata": {
        "id": "FU-thnaLL4AR",
        "colab_type": "code",
        "outputId": "d50bf5d2-c480-43a5-c0f7-85b9c980702c",
        "colab": {
          "base_uri": "https://localhost:8080/",
          "height": 36
        }
      },
      "source": [
        "print(np.max(s))\n"
      ],
      "execution_count": 0,
      "outputs": [
        {
          "output_type": "stream",
          "text": [
            "0.9999901366503265\n"
          ],
          "name": "stdout"
        }
      ]
    }
  ]
}