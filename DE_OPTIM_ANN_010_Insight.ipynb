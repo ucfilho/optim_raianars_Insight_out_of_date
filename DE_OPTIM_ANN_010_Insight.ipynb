{
  "nbformat": 4,
  "nbformat_minor": 0,
  "metadata": {
    "colab": {
      "name": "DE_OPTIM_ANN_010_Insight.ipynb",
      "provenance": [],
      "collapsed_sections": [],
      "include_colab_link": true
    },
    "kernelspec": {
      "name": "python3",
      "display_name": "Python 3"
    },
    "language_info": {
      "codemirror_mode": {
        "name": "ipython",
        "version": 3
      },
      "file_extension": ".py",
      "mimetype": "text/x-python",
      "name": "python",
      "nbconvert_exporter": "python",
      "pygments_lexer": "ipython3",
      "version": "3.7.3"
    },
    "accelerator": "GPU"
  },
  "cells": [
    {
      "cell_type": "markdown",
      "metadata": {
        "id": "view-in-github",
        "colab_type": "text"
      },
      "source": [
        "<a href=\"https://colab.research.google.com/github/ucfilho/optim_raianars_Insight_out_of_date/blob/master/DE_OPTIM_ANN_010_Insight.ipynb\" target=\"_parent\"><img src=\"https://colab.research.google.com/assets/colab-badge.svg\" alt=\"Open In Colab\"/></a>"
      ]
    },
    {
      "cell_type": "code",
      "metadata": {
        "id": "qyA7a-1Tq5Fr",
        "colab_type": "code",
        "colab": {}
      },
      "source": [
        "import time\n",
        "import matplotlib.pyplot as plt\n",
        "import numpy as np\n",
        "from random import randint\n",
        "from scipy import optimize\n",
        "import pandas as pd"
      ],
      "execution_count": 0,
      "outputs": []
    },
    {
      "cell_type": "code",
      "metadata": {
        "id": "DPPw3xXOut6g",
        "colab_type": "code",
        "colab": {}
      },
      "source": [
        "def AvaliaX(X):\n",
        "  nrow,ncol=X.shape\n",
        "  fitness = np.asarray([Fun(ind) for ind in X])\n",
        "  best_idx = np.argmin(fitness)\n",
        "  best = X[best_idx]\n",
        "  fobj_best = fitness[best_idx]\n",
        "  y=fitness\n",
        "  BEST=best\n",
        "  FOBEST=fobj_best\n",
        "  XY= np.c_[X,y] #concatena x e y em 2 colunas            \n",
        "  XYsorted = XY[XY[:,-1].argsort()] #Ordena a partir da last col(Y) for all row\n",
        "  x=XYsorted[:,0:ncol]\n",
        "  XY=XYsorted\n",
        "  BEST_XY =np.append(BEST,FOBEST)\n",
        "  return XY,BEST_XY,BEST,FOBEST"
      ],
      "execution_count": 0,
      "outputs": []
    },
    {
      "cell_type": "code",
      "metadata": {
        "id": "B7iwhNIlDXv2",
        "colab_type": "code",
        "colab": {}
      },
      "source": [
        ""
      ],
      "execution_count": 0,
      "outputs": []
    },
    {
      "cell_type": "code",
      "metadata": {
        "id": "kZTJNsB7oBzY",
        "colab_type": "code",
        "colab": {}
      },
      "source": [
        "# Functions\n",
        "def sigmoid(x,deriv=False):\n",
        "    if(deriv==True):\n",
        "        return x*(1-x)\n",
        "    return 1/(1+np.exp(-x))\n",
        "\n",
        "def tasig(x,deriv=False):\n",
        "    if(deriv==True):\n",
        "        return 1-x*x\n",
        "    return 2/(1+np.exp(-2*x))-1\n",
        "\n",
        "# purelin function\n",
        "def purelin(x,deriv=False):\n",
        "    if(deriv==True):\n",
        "        return 1\n",
        "    return x"
      ],
      "execution_count": 0,
      "outputs": []
    },
    {
      "cell_type": "code",
      "metadata": {
        "id": "i5cteBfwoTrX",
        "colab_type": "code",
        "colab": {}
      },
      "source": [
        "# funcao normatiza dados\n",
        "def Normatiza(x_train,X_max,X_min):\n",
        "    strings=list(x_train)\n",
        "    k=-1\n",
        "    for i in strings:\n",
        "        k=k+1\n",
        "        max_x=X_max[k]\n",
        "        min_x=X_min[k]\n",
        "        a=(max_x+min_x)/2\n",
        "        b=(max_x-min_x)/2\n",
        "        x_train[i]=(x_train[i]-a)/b\n",
        "    return x_train"
      ],
      "execution_count": 0,
      "outputs": []
    },
    {
      "cell_type": "code",
      "metadata": {
        "id": "0Jf2WiiZoeMA",
        "colab_type": "code",
        "colab": {}
      },
      "source": [
        "# funcao retorna os dados a forma original\n",
        "def Original(x_train,X_max,X_min):\n",
        "    strings=list(x)\n",
        "    k=-1\n",
        "    for i in strings:\n",
        "        k=k+1\n",
        "        max_x=X_max[k]\n",
        "        min_x=X_min[k]\n",
        "        a=(max_x+min_x)/2\n",
        "        b=(max_x-min_x)/2\n",
        "        x_train[i]=x_train[i]*b+a\n",
        "    return x_train"
      ],
      "execution_count": 0,
      "outputs": []
    },
    {
      "cell_type": "code",
      "metadata": {
        "id": "HAxiPwHgoily",
        "colab_type": "code",
        "colab": {}
      },
      "source": [
        "def ANN_ycal(syn0,syn1,X_train):\n",
        "  l0 = X_train\n",
        "  l1 = tasig(np.dot(l0,syn0))\n",
        "  l2 = purelin(np.dot(l1,syn1))\n",
        "  y_calc=np.reshape(l2,len(l2))\n",
        "  return y_calc"
      ],
      "execution_count": 0,
      "outputs": []
    },
    {
      "cell_type": "code",
      "metadata": {
        "id": "QoJv9untomvJ",
        "colab_type": "code",
        "colab": {}
      },
      "source": [
        "def Classifica(ycalc):\n",
        "  n=len(ycalc)\n",
        "  for i in range(n):\n",
        "    if(ycalc[i]<0):\n",
        "      ycalc[i]=-1\n",
        "    else:\n",
        "      ycalc[i]=1\n",
        "  return ycalc"
      ],
      "execution_count": 0,
      "outputs": []
    },
    {
      "cell_type": "code",
      "metadata": {
        "id": "qTINtQ1cosZK",
        "colab_type": "code",
        "outputId": "7e284833-d9e6-4f42-9d2a-f39356f0672d",
        "colab": {
          "base_uri": "https://localhost:8080/",
          "height": 55
        }
      },
      "source": [
        "!git clone https://github.com/ucfilho/ANN_read_matrix #clonar do Github\n",
        "%cd ANN_read_matrix"
      ],
      "execution_count": 0,
      "outputs": [
        {
          "output_type": "stream",
          "text": [
            "fatal: destination path 'ANN_read_matrix' already exists and is not an empty directory.\n",
            "/content/ANN_read_matrix\n"
          ],
          "name": "stdout"
        }
      ]
    },
    {
      "cell_type": "code",
      "metadata": {
        "id": "QiQLYOoNoyCw",
        "colab_type": "code",
        "colab": {}
      },
      "source": [
        "ANN=pd.read_csv('ANN_INSIGHT_Valor_F.csv')"
      ],
      "execution_count": 0,
      "outputs": []
    },
    {
      "cell_type": "code",
      "metadata": {
        "id": "D-96FWbdpFDN",
        "colab_type": "code",
        "colab": {}
      },
      "source": [
        "nrow0=int(ANN.iloc[0,1]);#print(nrow0);\n",
        "ncol0=int(ANN.iloc[1,1]);#print(ncol0);\n",
        "nrow1=int(ANN.iloc[2,1]);#print(nrow1);\n",
        "ncol1=int(ANN.iloc[3,1]);#print(ncol1);\n",
        "Col=np.array(range(2,ncol0+2)); # print(Col)\n",
        "Row=np.array(range(0,nrow0)); # print(Row)\n",
        "syn0=np.array(ANN.iloc[Row,Col])\n",
        "syn0=pd.DataFrame(syn0).dropna() \n",
        "syn0=np.array(syn0)\n",
        "ncol=int(ANN.iloc[0,1])\n",
        "syn1=ANN.iloc[:,(ncol0+ncol1+1)];#print(syn1)\n",
        "nrow=len(np.array(syn1.dropna()))\n",
        "A=np.zeros((nrow,1));\n",
        "A[:,0]=np.copy(syn1.dropna());\n",
        "syn1=np.copy(A);#print(pd.DataFrame(syn1))\n",
        "X_max=np.array(ANN.iloc[:,ncol-1].dropna());#print(X_max)\n",
        "X_min=np.array(ANN.iloc[:,ncol-2].dropna());#print(X_min)"
      ],
      "execution_count": 0,
      "outputs": []
    },
    {
      "cell_type": "code",
      "metadata": {
        "id": "z7H0bUMdqY-t",
        "colab_type": "code",
        "outputId": "a56ce221-911c-4e6e-ea07-70b18dd39467",
        "colab": {
          "base_uri": "https://localhost:8080/",
          "height": 167
        }
      },
      "source": [
        "############################### Importar códigos\n",
        "!git clone https://github.com/ucfilho/optim_raianars_Insight/ #clonar do Github\n",
        "%cd optim_raianars_Insight\n",
        "import de_soma_Insight\n",
        "import de_bounds_matriz"
      ],
      "execution_count": 0,
      "outputs": [
        {
          "output_type": "stream",
          "text": [
            "Cloning into 'optim_raianars_Insight'...\n",
            "remote: Enumerating objects: 144, done.\u001b[K\n",
            "remote: Counting objects:   0% (1/144)\u001b[K\rremote: Counting objects:   1% (2/144)\u001b[K\rremote: Counting objects:   2% (3/144)\u001b[K\rremote: Counting objects:   3% (5/144)\u001b[K\rremote: Counting objects:   4% (6/144)\u001b[K\rremote: Counting objects:   5% (8/144)\u001b[K\rremote: Counting objects:   6% (9/144)\u001b[K\rremote: Counting objects:   7% (11/144)\u001b[K\rremote: Counting objects:   8% (12/144)\u001b[K\rremote: Counting objects:   9% (13/144)\u001b[K\rremote: Counting objects:  10% (15/144)\u001b[K\rremote: Counting objects:  11% (16/144)\u001b[K\rremote: Counting objects:  12% (18/144)\u001b[K\rremote: Counting objects:  13% (19/144)\u001b[K\rremote: Counting objects:  14% (21/144)\u001b[K\rremote: Counting objects:  15% (22/144)\u001b[K\rremote: Counting objects:  16% (24/144)\u001b[K\rremote: Counting objects:  17% (25/144)\u001b[K\rremote: Counting objects:  18% (26/144)\u001b[K\rremote: Counting objects:  19% (28/144)\u001b[K\rremote: Counting objects:  20% (29/144)\u001b[K\rremote: Counting objects:  21% (31/144)\u001b[K\rremote: Counting objects:  22% (32/144)\u001b[K\rremote: Counting objects:  23% (34/144)\u001b[K\rremote: Counting objects:  24% (35/144)\u001b[K\rremote: Counting objects:  25% (36/144)\u001b[K\rremote: Counting objects:  26% (38/144)\u001b[K\rremote: Counting objects:  27% (39/144)\u001b[K\rremote: Counting objects:  28% (41/144)\u001b[K\rremote: Counting objects:  29% (42/144)\u001b[K\rremote: Counting objects:  30% (44/144)\u001b[K\rremote: Counting objects:  31% (45/144)\u001b[K\rremote: Counting objects:  32% (47/144)\u001b[K\rremote: Counting objects:  33% (48/144)\u001b[K\rremote: Counting objects:  34% (49/144)\u001b[K\rremote: Counting objects:  35% (51/144)\u001b[K\rremote: Counting objects:  36% (52/144)\u001b[K\rremote: Counting objects:  37% (54/144)\u001b[K\rremote: Counting objects:  38% (55/144)\u001b[K\rremote: Counting objects:  39% (57/144)\u001b[K\rremote: Counting objects:  40% (58/144)\u001b[K\rremote: Counting objects:  41% (60/144)\u001b[K\rremote: Counting objects:  42% (61/144)\u001b[K\rremote: Counting objects:  43% (62/144)\u001b[K\rremote: Counting objects:  44% (64/144)\u001b[K\rremote: Counting objects:  45% (65/144)\u001b[K\rremote: Counting objects:  46% (67/144)\u001b[K\rremote: Counting objects:  47% (68/144)\u001b[K\rremote: Counting objects:  48% (70/144)\u001b[K\rremote: Counting objects:  49% (71/144)\u001b[K\rremote: Counting objects:  50% (72/144)\u001b[K\rremote: Counting objects:  51% (74/144)\u001b[K\rremote: Counting objects:  52% (75/144)\u001b[K\rremote: Counting objects:  53% (77/144)\u001b[K\rremote: Counting objects:  54% (78/144)\u001b[K\rremote: Counting objects:  55% (80/144)\u001b[K\rremote: Counting objects:  56% (81/144)\u001b[K\rremote: Counting objects:  57% (83/144)\u001b[K\rremote: Counting objects:  58% (84/144)\u001b[K\rremote: Counting objects:  59% (85/144)\u001b[K\rremote: Counting objects:  60% (87/144)\u001b[K\rremote: Counting objects:  61% (88/144)\u001b[K\rremote: Counting objects:  62% (90/144)\u001b[K\rremote: Counting objects:  63% (91/144)\u001b[K\rremote: Counting objects:  64% (93/144)\u001b[K\rremote: Counting objects:  65% (94/144)\u001b[K\rremote: Counting objects:  66% (96/144)\u001b[K\rremote: Counting objects:  67% (97/144)\u001b[K\rremote: Counting objects:  68% (98/144)\u001b[K\rremote: Counting objects:  69% (100/144)\u001b[K\rremote: Counting objects:  70% (101/144)\u001b[K\rremote: Counting objects:  71% (103/144)\u001b[K\rremote: Counting objects:  72% (104/144)\u001b[K\rremote: Counting objects:  73% (106/144)\u001b[K\rremote: Counting objects:  74% (107/144)\u001b[K\rremote: Counting objects:  75% (108/144)\u001b[K\rremote: Counting objects:  76% (110/144)\u001b[K\rremote: Counting objects:  77% (111/144)\u001b[K\rremote: Counting objects:  78% (113/144)\u001b[K\rremote: Counting objects:  79% (114/144)\u001b[K\rremote: Counting objects:  80% (116/144)\u001b[K\rremote: Counting objects:  81% (117/144)\u001b[K\rremote: Counting objects:  82% (119/144)\u001b[K\rremote: Counting objects:  83% (120/144)\u001b[K\rremote: Counting objects:  84% (121/144)\u001b[K\rremote: Counting objects:  85% (123/144)\u001b[K\rremote: Counting objects:  86% (124/144)\u001b[K\rremote: Counting objects:  87% (126/144)\u001b[K\rremote: Counting objects:  88% (127/144)\u001b[K\rremote: Counting objects:  89% (129/144)\u001b[K\rremote: Counting objects:  90% (130/144)\u001b[K\rremote: Counting objects:  91% (132/144)\u001b[K\rremote: Counting objects:  92% (133/144)\u001b[K\rremote: Counting objects:  93% (134/144)\u001b[K\rremote: Counting objects:  94% (136/144)\u001b[K\rremote: Counting objects:  95% (137/144)\u001b[K\rremote: Counting objects:  96% (139/144)\u001b[K\rremote: Counting objects:  97% (140/144)\u001b[K\rremote: Counting objects:  98% (142/144)\u001b[K\rremote: Counting objects:  99% (143/144)\u001b[K\rremote: Counting objects: 100% (144/144)\u001b[K\rremote: Counting objects: 100% (144/144), done.\u001b[K\n",
            "remote: Compressing objects:   0% (1/142)\u001b[K\rremote: Compressing objects:   1% (2/142)\u001b[K\rremote: Compressing objects:   2% (3/142)\u001b[K\rremote: Compressing objects:   3% (5/142)\u001b[K\rremote: Compressing objects:   4% (6/142)\u001b[K\rremote: Compressing objects:   5% (8/142)\u001b[K\rremote: Compressing objects:   6% (9/142)\u001b[K\rremote: Compressing objects:   7% (10/142)\u001b[K\rremote: Compressing objects:   8% (12/142)\u001b[K\rremote: Compressing objects:   9% (13/142)\u001b[K\rremote: Compressing objects:  10% (15/142)\u001b[K\rremote: Compressing objects:  11% (16/142)\u001b[K\rremote: Compressing objects:  12% (18/142)\u001b[K\rremote: Compressing objects:  13% (19/142)\u001b[K\rremote: Compressing objects:  14% (20/142)\u001b[K\rremote: Compressing objects:  15% (22/142)\u001b[K\rremote: Compressing objects:  16% (23/142)\u001b[K\rremote: Compressing objects:  17% (25/142)\u001b[K\rremote: Compressing objects:  18% (26/142)\u001b[K\rremote: Compressing objects:  19% (27/142)\u001b[K\rremote: Compressing objects:  20% (29/142)\u001b[K\rremote: Compressing objects:  21% (30/142)\u001b[K\rremote: Compressing objects:  22% (32/142)\u001b[K\rremote: Compressing objects:  23% (33/142)\u001b[K\rremote: Compressing objects:  24% (35/142)\u001b[K\rremote: Compressing objects:  25% (36/142)\u001b[K\rremote: Compressing objects:  26% (37/142)\u001b[K\rremote: Compressing objects:  27% (39/142)\u001b[K\rremote: Compressing objects:  28% (40/142)\u001b[K\rremote: Compressing objects:  29% (42/142)\u001b[K\rremote: Compressing objects:  30% (43/142)\u001b[K\rremote: Compressing objects:  31% (45/142)\u001b[K\rremote: Compressing objects:  32% (46/142)\u001b[K\rremote: Compressing objects:  33% (47/142)\u001b[K\rremote: Compressing objects:  34% (49/142)\u001b[K\rremote: Compressing objects:  35% (50/142)\u001b[K\rremote: Compressing objects:  36% (52/142)\u001b[K\rremote: Compressing objects:  37% (53/142)\u001b[K\rremote: Compressing objects:  38% (54/142)\u001b[K\rremote: Compressing objects:  39% (56/142)\u001b[K\rremote: Compressing objects:  40% (57/142)\u001b[K\rremote: Compressing objects:  41% (59/142)\u001b[K\rremote: Compressing objects:  42% (60/142)\u001b[K\rremote: Compressing objects:  43% (62/142)\u001b[K\rremote: Compressing objects:  44% (63/142)\u001b[K\rremote: Compressing objects:  45% (64/142)\u001b[K\rremote: Compressing objects:  46% (66/142)\u001b[K\rremote: Compressing objects:  47% (67/142)\u001b[K\rremote: Compressing objects:  48% (69/142)\u001b[K\rremote: Compressing objects:  49% (70/142)\u001b[K\rremote: Compressing objects:  50% (71/142)\u001b[K\rremote: Compressing objects:  51% (73/142)\u001b[K\rremote: Compressing objects:  52% (74/142)\u001b[K\rremote: Compressing objects:  53% (76/142)\u001b[K\rremote: Compressing objects:  54% (77/142)\u001b[K\rremote: Compressing objects:  55% (79/142)\u001b[K\rremote: Compressing objects:  56% (80/142)\u001b[K\rremote: Compressing objects:  57% (81/142)\u001b[K\rremote: Compressing objects:  58% (83/142)\u001b[K\rremote: Compressing objects:  59% (84/142)\u001b[K\rremote: Compressing objects:  60% (86/142)\u001b[K\rremote: Compressing objects:  61% (87/142)\u001b[K\rremote: Compressing objects:  62% (89/142)\u001b[K\rremote: Compressing objects:  63% (90/142)\u001b[K\rremote: Compressing objects:  64% (91/142)\u001b[K\rremote: Compressing objects:  65% (93/142)\u001b[K\rremote: Compressing objects:  66% (94/142)\u001b[K\rremote: Compressing objects:  67% (96/142)\u001b[K\rremote: Compressing objects:  68% (97/142)\u001b[K\rremote: Compressing objects:  69% (98/142)\u001b[K\rremote: Compressing objects:  70% (100/142)\u001b[K\rremote: Compressing objects:  71% (101/142)\u001b[K\rremote: Compressing objects:  72% (103/142)\u001b[K\rremote: Compressing objects:  73% (104/142)\u001b[K\rremote: Compressing objects:  74% (106/142)\u001b[K\rremote: Compressing objects:  75% (107/142)\u001b[K\rremote: Compressing objects:  76% (108/142)\u001b[K\rremote: Compressing objects:  77% (110/142)\u001b[K\rremote: Compressing objects:  78% (111/142)\u001b[K\rremote: Compressing objects:  79% (113/142)\u001b[K\rremote: Compressing objects:  80% (114/142)\u001b[K\rremote: Compressing objects:  81% (116/142)\u001b[K\rremote: Compressing objects:  82% (117/142)\u001b[K\rremote: Compressing objects:  83% (118/142)\u001b[K\rremote: Compressing objects:  84% (120/142)\u001b[K\rremote: Compressing objects:  85% (121/142)\u001b[K\rremote: Compressing objects:  86% (123/142)\u001b[K\rremote: Compressing objects:  87% (124/142)\u001b[K\rremote: Compressing objects:  88% (125/142)\u001b[K\rremote: Compressing objects:  89% (127/142)\u001b[K\rremote: Compressing objects:  90% (128/142)\u001b[K\rremote: Compressing objects:  91% (130/142)\u001b[K\rremote: Compressing objects:  92% (131/142)\u001b[K\rremote: Compressing objects:  93% (133/142)\u001b[K\rremote: Compressing objects:  94% (134/142)\u001b[K\rremote: Compressing objects:  95% (135/142)\u001b[K\rremote: Compressing objects:  96% (137/142)\u001b[K\rremote: Compressing objects:  97% (138/142)\u001b[K\rremote: Compressing objects:  98% (140/142)\u001b[K\rremote: Compressing objects:  99% (141/142)\u001b[K\rremote: Compressing objects: 100% (142/142)\u001b[K\rremote: Compressing objects: 100% (142/142), done.\u001b[K\n",
            "Receiving objects:   0% (1/144)   \rReceiving objects:   1% (2/144)   \rReceiving objects:   2% (3/144)   \rReceiving objects:   3% (5/144)   \rReceiving objects:   4% (6/144)   \rReceiving objects:   5% (8/144)   \rReceiving objects:   6% (9/144)   \rReceiving objects:   7% (11/144)   \rReceiving objects:   8% (12/144)   \rReceiving objects:   9% (13/144)   \rReceiving objects:  10% (15/144)   \rReceiving objects:  11% (16/144)   \rReceiving objects:  12% (18/144)   \rReceiving objects:  13% (19/144)   \rReceiving objects:  14% (21/144)   \rReceiving objects:  15% (22/144)   \rReceiving objects:  16% (24/144)   \rReceiving objects:  17% (25/144)   \rReceiving objects:  18% (26/144)   \rReceiving objects:  19% (28/144)   \rReceiving objects:  20% (29/144)   \rReceiving objects:  21% (31/144)   \rReceiving objects:  22% (32/144)   \rReceiving objects:  23% (34/144)   \rReceiving objects:  24% (35/144)   \rReceiving objects:  25% (36/144)   \rReceiving objects:  26% (38/144)   \rReceiving objects:  27% (39/144)   \rReceiving objects:  28% (41/144)   \rReceiving objects:  29% (42/144)   \rReceiving objects:  30% (44/144)   \rReceiving objects:  31% (45/144)   \rReceiving objects:  32% (47/144)   \rReceiving objects:  33% (48/144)   \rReceiving objects:  34% (49/144)   \rReceiving objects:  35% (51/144)   \rReceiving objects:  36% (52/144)   \rReceiving objects:  37% (54/144)   \rReceiving objects:  38% (55/144)   \rReceiving objects:  39% (57/144)   \rReceiving objects:  40% (58/144)   \rReceiving objects:  41% (60/144)   \rReceiving objects:  42% (61/144)   \rReceiving objects:  43% (62/144)   \rReceiving objects:  44% (64/144)   \rReceiving objects:  45% (65/144)   \rremote: Total 144 (delta 83), reused 0 (delta 0), pack-reused 0\u001b[K\n",
            "Receiving objects:  46% (67/144)   \rReceiving objects:  47% (68/144)   \rReceiving objects:  48% (70/144)   \rReceiving objects:  49% (71/144)   \rReceiving objects:  50% (72/144)   \rReceiving objects:  51% (74/144)   \rReceiving objects:  52% (75/144)   \rReceiving objects:  53% (77/144)   \rReceiving objects:  54% (78/144)   \rReceiving objects:  55% (80/144)   \rReceiving objects:  56% (81/144)   \rReceiving objects:  57% (83/144)   \rReceiving objects:  58% (84/144)   \rReceiving objects:  59% (85/144)   \rReceiving objects:  60% (87/144)   \rReceiving objects:  61% (88/144)   \rReceiving objects:  62% (90/144)   \rReceiving objects:  63% (91/144)   \rReceiving objects:  64% (93/144)   \rReceiving objects:  65% (94/144)   \rReceiving objects:  66% (96/144)   \rReceiving objects:  67% (97/144)   \rReceiving objects:  68% (98/144)   \rReceiving objects:  69% (100/144)   \rReceiving objects:  70% (101/144)   \rReceiving objects:  71% (103/144)   \rReceiving objects:  72% (104/144)   \rReceiving objects:  73% (106/144)   \rReceiving objects:  74% (107/144)   \rReceiving objects:  75% (108/144)   \rReceiving objects:  76% (110/144)   \rReceiving objects:  77% (111/144)   \rReceiving objects:  78% (113/144)   \rReceiving objects:  79% (114/144)   \rReceiving objects:  80% (116/144)   \rReceiving objects:  81% (117/144)   \rReceiving objects:  82% (119/144)   \rReceiving objects:  83% (120/144)   \rReceiving objects:  84% (121/144)   \rReceiving objects:  85% (123/144)   \rReceiving objects:  86% (124/144)   \rReceiving objects:  87% (126/144)   \rReceiving objects:  88% (127/144)   \rReceiving objects:  89% (129/144)   \rReceiving objects:  90% (130/144)   \rReceiving objects:  91% (132/144)   \rReceiving objects:  92% (133/144)   \rReceiving objects:  93% (134/144)   \rReceiving objects:  94% (136/144)   \rReceiving objects:  95% (137/144)   \rReceiving objects:  96% (139/144)   \rReceiving objects:  97% (140/144)   \rReceiving objects:  98% (142/144)   \rReceiving objects:  99% (143/144)   \rReceiving objects: 100% (144/144)   \rReceiving objects: 100% (144/144), 85.45 KiB | 575.00 KiB/s, done.\n",
            "Resolving deltas:   0% (0/83)   \rResolving deltas:  55% (46/83)   \rResolving deltas:  59% (49/83)   \rResolving deltas:  68% (57/83)   \rResolving deltas:  71% (59/83)   \rResolving deltas:  72% (60/83)   \rResolving deltas: 100% (83/83)   \rResolving deltas: 100% (83/83), done.\n",
            "/content/ANN_read_matrix/optim_raianars_Insight\n"
          ],
          "name": "stdout"
        }
      ]
    },
    {
      "cell_type": "code",
      "metadata": {
        "colab_type": "code",
        "id": "v1OxgXboBKoG",
        "colab": {}
      },
      "source": [
        "############################### DADOS DE ENTRADA \n",
        "RUNS=1 #NÚMERO DE RODADAS\n",
        "#mut=0.8\n",
        "#crossp=0.7\n",
        "  ############################### Função\n",
        "import Function\n",
        "\n",
        "'''\n",
        "Fun=Function.Rosenbrock\n",
        "dim=30\n",
        "MAX=np.repeat(10,dim)\n",
        "MIN=np.repeat(-10,dim)\n",
        "\n",
        "  #Global optimum: f(xi)= 0\n",
        "'''\n",
        "'''\n",
        "dim=30\n",
        "Fun=Function.Sphere\n",
        "MAX=np.repeat(5.12,dim)\n",
        "MIN=np.repeat(-5.12,dim)\n",
        "  # f(x)=0 x=(0,0) [-5.12,5.12]\n",
        "'''\n",
        "#'''\n",
        "dim=2\n",
        "Fun=Function.Schwefel\n",
        "MAX=np.repeat(500,dim)\n",
        "MIN=np.repeat(-500,dim)\n",
        "  #Global optimum: f(xi)= 0 for xi = 420.968746 for i=1,...,n  ;  xi in [-500,500]  \n",
        "#'''\n",
        "'''\n",
        "dim=30\n",
        "Fun=Function.Rastrigin\n",
        "MAX=np.repeat(5.12,dim)\n",
        "MIN=np.repeat(-5.12,dim)\n",
        "  # f(x)=0 x=(0,0) [-5.12,5.12]\n",
        "'''\n",
        "'''\n",
        "dim=30\n",
        "Fun=Function.Sum_of_different_powers\n",
        "MAX=np.repeat(1,dim)\n",
        "MIN=np.repeat(-1,dim)\n",
        "  # f(x)=0 x=(0,0)\n",
        "'''\n",
        "'''  \n",
        "dim=30\n",
        "Fun=Function.Ackley\n",
        "MAX=np.repeat(32,dim)\n",
        "MIN=np.repeat(-32,dim)\n",
        " # f(x)=0 x=(0,0) [-32, 32]\n",
        "'''\n",
        "'''  \n",
        "dim=30\n",
        "Fun=Function.Michalewicz\n",
        "MAX=np.repeat(np.pi,dim)\n",
        "MIN=np.repeat(0,dim)\n",
        " #fx=-9.66015 p/ d=10 [0,pi]\n",
        "'''\n",
        "'''  \n",
        "dim=30\n",
        "Fun=Function.\n",
        "MAX=np.repeat(1,dim)\n",
        "MIN=np.repeat(-1,dim)\n",
        "'''\n",
        "\n",
        "PAR=len(MAX) #NUM DE PARAMETROS A SER OTIMIZADOS\n"
      ],
      "execution_count": 0,
      "outputs": []
    },
    {
      "cell_type": "code",
      "metadata": {
        "colab_type": "code",
        "id": "BDMwd41C5ahQ",
        "colab": {}
      },
      "source": [
        "def GeraIndices(X,BESTo,FOBESTo,DIo,MAT_INDo,SOMA,TOTAL):\n",
        "  global syn0,syn1,fields,X_max,X_min\n",
        "  nrow,ncol=X.shape\n",
        "  FOBESTm=1e99\n",
        "  Fo=MAT_INDo[0,6]    # VALOR Fo   \n",
        "  CRo=MAT_INDo[0,7]   # VALOR CRo\n",
        "  QUANT=17 # quantos indices esta fazendo\n",
        "  MAT_IND=np.zeros((1,QUANT))\n",
        "\n",
        "  REF=0.1 # REFERENCIA DE DIFERENCAS ENTRE OS ELEMENTOS\n",
        "  \n",
        "  XY,BEST_XY,BEST,FOBEST=AvaliaX(X)\n",
        "  soma=0\n",
        "  for j in range(ncol):\n",
        "    for i in range(nrow):\n",
        "        Xj=np.mean(X[:,j])\n",
        "        soma=soma+(X[i,j]-Xj)**2\n",
        "  DI=(soma/nrow)**0.5\n",
        "  DIr=DI/DIo\n",
        "  MAT_IND[0,0]=DI #dispersao\n",
        "  MAT_IND[0,1]=DIr # dispersao relativa\n",
        "  MAT_IND[0,2]=SOMA/TOTAL # fracao relativa\n",
        "\n",
        "  V1=FOBESTo\n",
        "  V2=FOBEST\n",
        "  A=2*V2\n",
        "  if(V1 > A):\n",
        "    MAT_IND[0,3]=2 # o valor de fobj torna pelo menos duas vezes melhor\n",
        "  elif (V2==V1):\n",
        "    MAT_IND[0,3]=0 # o valor de fobj nao altera\n",
        "  else:\n",
        "    MAT_IND[0,3]=1 # o valor de fobj melhora mas menos que duas vezes\n",
        "  \n",
        "  # MAT_IND[0,4]  # VELOC X\n",
        "  DELTA=np.amax(abs(BEST-BESTo))\n",
        "  if( DELTA >REF):\n",
        "    MAT_IND[0,4]=2 # difere  for i in range(1,len(PARTIC)):\n",
        "  elif ( DELTA == 0):\n",
        "    MAT_IND[0,4]=0 # sem diferenca entre as posicoes do xbest entre duas buscas\n",
        "  else:\n",
        "    MAT_IND[0,4]=1 # diferenca entre as posicoes  do xbest menor que ref\n",
        "  \n",
        "  MAT_IND[0,5]=nrow  # VALOR NP\n",
        "  nrow,ncol=XY.shape\n",
        "  MAT_IND[0,8]=XY[0,(ncol-1)] # VALOR fmin\n",
        "  MAT_IND[0,9]=XY[(nrow-1),(ncol-1)] # VALOR fmax\n",
        "  # MAT_IND[0,10] # Valor AD_fmin \n",
        "  if abs(MAT_IND[0,8]/MAT_IND[0,8])>1:\n",
        "    MAT_IND[0,10]=1/abs(MAT_IND[0,8])\n",
        "  else:\n",
        "    MAT_IND[0,10]=MAT_IND[0,8]/MAT_IND[0,8]\n",
        "  # MAT_IND[0,11] # Valor AD_fmax\n",
        "  if abs(MAT_IND[0,9]/MAT_IND[0,9])>1: # tem que pegar primeira\n",
        "    MAT_IND[0,11]=1/abs(MAT_IND[0,9]) # tem que pegar primeira\n",
        "  else:\n",
        "    MAT_IND[0,11]=MAT_IND[0,9]/MAT_IND[0,9] # tem que pegar do anterior\n",
        "\n",
        "  # MAT_IND[0,12] # DELTA Fobj\n",
        "  MAT_IND[0,12]=MAT_IND[0,3]-MAT_IND[0,3]  # tem que pegar do anterior\n",
        "  \n",
        "\n",
        "  # MAT_IND[0,13] # DELTA Vx\n",
        "  MAT_IND[0,13]=MAT_IND[0,4]-MAT_IND[0,4]  # tem que pegar do anterior\n",
        "\n",
        "  # MAT_IND[0,14] # r_fitness\n",
        "  Fmin=0.05\n",
        "  if (MAT_IND[0,8]==0):\n",
        "    MAT_IND[0,14]=Fmin\n",
        "  elif (MAT_IND[0,9]==0):\n",
        "    MAT_IND[0,14]=Fmin\n",
        "  else:\n",
        "    if abs(MAT_IND[0,9]/MAT_IND[0,8])<1:\n",
        "      MAT_IND[0,14]=1-abs(MAT_IND[0,9]/MAT_IND[0,8])\n",
        "    else:\n",
        "      MAT_IND[0,14]=1-abs(MAT_IND[0,8]/MAT_IND[0,9])\n",
        "\n",
        "  MAT_IND[0,6]=Fo\n",
        "  MAT_IND[0,7]=CRo\n",
        "\n",
        "  # comecando a rede!!!\n",
        "  #['DI RELATIVO', 'FRAC Its', 'Fo', 'CRo'] VALORES A USAR\n",
        "  #MAT_IND[0,1]=DIr # dispersao relativa\n",
        "  #MAT_IND[0,2]=SOMA/TOTAL # fracao relativa\n",
        "  #MAT_IND[0,6]=Fo\n",
        "  #MAT_IND[0,7]=CRo\n",
        "  \n",
        "  x_train=MAT_INDo[0,[1,2,6,7]]\n",
        "  x_train=pd.DataFrame(x_train).T\n",
        "\n",
        "  nrow,ncol=ANN.shape\n",
        "  x_train=Normatiza(x_train,X_max,X_min)\n",
        "  y_calc=ANN_ycal(syn0,syn1,x_train)\n",
        "  y_quali=Classifica(y_calc)\n",
        "  Fo=Fo+0.5\n",
        "  CRo=CRo+2\n",
        "  \n",
        "  MAT_IND[0,15]=Fo # valor de F que sai da rede\n",
        "  MAT_IND[0,16]=CRo # valor de CR que sai da rede\n",
        "\n",
        "  \n",
        "  return MAT_IND\n",
        "\n"
      ],
      "execution_count": 0,
      "outputs": []
    },
    {
      "cell_type": "code",
      "metadata": {
        "id": "6jL8MxpHvk-Y",
        "colab_type": "code",
        "colab": {}
      },
      "source": [
        "fields = ['DI RELATIVO','FRAC Its','Fo','CRo']\n",
        "\n",
        "\n"
      ],
      "execution_count": 0,
      "outputs": []
    },
    {
      "cell_type": "code",
      "metadata": {
        "id": "Mb3LmbSmj9v7",
        "colab_type": "code",
        "outputId": "8c47e6f9-501b-4bca-94bc-fd9781043c3b",
        "colab": {
          "base_uri": "https://localhost:8080/",
          "height": 447
        }
      },
      "source": [
        "##################################### IMPORTAR MÓDULOS\n",
        "\n",
        "NMAX=1000 # maximo tamanho da populacao\n",
        "\n",
        "dimensions=len(MAX)\n",
        "\n",
        "start_time = time.time() #INICIALIZA CONTAGEM DO TEMPO\n",
        "its=1 #10 # quantas vezes vai usar o NPAR antes de alterar de novo\n",
        "ITE=6 #10 # PONTOS quantas vezes vai alteral NPAR \n",
        "#PARTIC=[10,80,10,400,100,100,100,100,100,100]\n",
        "#ITE=50 # so para testar\n",
        "\n",
        "#TOTAL=7*dim*its*ITE\n",
        "TOTAL=10*dim*its*ITE\n",
        "\n",
        "maxiter=3\n",
        "popsize=5\n",
        "p=int(TOTAL/its/ITE) \n",
        "NPAR=p\n",
        "\n",
        "MAX_P=np.zeros(ITE) # ATENCAO para variar F e Cr MAX_P passa a ser 3 vezes maior\n",
        "MIN_P=np.zeros(ITE) # ATENCAO para variar F e Cr MIN_P passa a ser 3 vezes maior\n",
        "\n",
        "for i in range(dim):\n",
        "  MAX_P[i]=MAX[i] \n",
        "  MIN_P[i]=MIN[i]\n",
        "\n",
        "\n",
        "for i in range(RUNS):\n",
        "  SOMA=0\n",
        "  pop = np.random.rand(NPAR, dimensions)\n",
        "  diff=np.zeros(PAR)\n",
        "  for ii in range(PAR):\n",
        "    diff[ii] = MAX[ii]-MIN[ii]\n",
        "  X = MIN + pop * diff\n",
        "    \n",
        "  PONTOS=ITE # DIVISOES DA POPULACAO\n",
        " \n",
        " ############################################################\n",
        "  #bounds=[(5*dim, 15*dim)] * PONTOS # ITE\n",
        "  #bounds=[(3*dim, 12*dim)] * PONTOS # ITE\n",
        "  #bounds=[(4*dim, 16*dim)] * PONTOS\n",
        "  \n",
        "  # nao pode ser assim pq o bounds vale p o DE nao dos parametros\n",
        "  #p=int(TOTAL/its/ITE) \n",
        "  bounds=[(p, p)] * PONTOS\n",
        "  #bounds=[]\n",
        "  #for k in range(dim):\n",
        "  #  bounds.append((MIN[k], MAX[k]))\n",
        "  # print(\"=========bounds=\",bounds)\n",
        "    \n",
        "\n",
        "\n",
        "  '''\n",
        "  #Geral\n",
        "  new_mut=(0,1)\n",
        "  new_crossp=(0,1)\n",
        "  '''\n",
        "  #'''\n",
        "  #Multimodal Separável \n",
        "  new_mut=(0.5,1)\n",
        "  new_crossp=(0,0.5)\n",
        "  #'''\n",
        "  '''\n",
        "  #Multimodal Não Separável \n",
        "  new_mut=(0.5,1)\n",
        "  new_crossp=(0.5,1)\n",
        "  '''\n",
        "  '''\n",
        "  ##### Unimodal Separável\n",
        "  new_mut=(0,0.5)\n",
        "  new_crossp=(0,0.5)\n",
        "  '''\n",
        "  '''\n",
        "  ##### Unimodal Não Separável\n",
        "  new_mut=(0,0.5)\n",
        "  new_crossp=(0.5,1)\n",
        "  '''\n",
        " ############################################################ \n",
        "  # nao pode ser assim pq o bounds vale p o DE nao dos parametros\n",
        "  ''' '''\n",
        "  for j in range(PONTOS):\n",
        "    bounds.append(new_mut)\n",
        "    \n",
        "  for j in range(PONTOS):\n",
        "    bounds.append(new_crossp)\n",
        "\n",
        "  DIo=1e99\n",
        "  mut=0.5;crossp=0.5;\n",
        "  CRo=crossp;Fo=mut;\n",
        "  #Xo=np.copy(X)\n",
        "  XY,BEST_XY,BESTo,FOBESTo=AvaliaX(X)\n",
        "  nrow,ncol=X.shape\n",
        "\n",
        "  QUANT=17;MAT_INDo=np.zeros((1,QUANT)); # quantos indices esta fazendo\n",
        "  MAT_INDo[0,5]=nrow  # VALOR NP\n",
        "  MAT_INDo[0,6]=Fo    # VALOR Fo   \n",
        "  MAT_INDo[0,7]=CRo   # VALOR CRo\n",
        "  \n",
        "  MAT_INDo=GeraIndices(X,BESTo,FOBESTo,DIo,MAT_INDo,SOMA,TOTAL)\n",
        "  \n",
        "  DIo=np.copy(MAT_INDo[0,0])\n",
        "  pd.set_option('display.max_columns', 30)  \n",
        "  MAT_INDo[0,15]=Fo    # VALOR Fo   \n",
        "  MAT_INDo[0,16]=CRo   # VALOR CRo\n",
        "  MAT=[]\n",
        "  for loop in range(ITE):\n",
        "    X,BEST,FOBEST,XY,BEST_XY,SOMA= de_soma_Insight.de(MAX,MIN, mut, crossp,NPAR,\n",
        "                                                      its,Fun,X,SOMA,TOTAL)\n",
        "    \n",
        "    MAT_IND=GeraIndices(X,BESTo,FOBESTo,DIo,MAT_INDo,SOMA,TOTAL)\n",
        "    \n",
        "    BESTo=np.copy(BEST);FOBESTo=np.copy(FOBEST);\n",
        "    MAT.append(MAT_IND.ravel())\n",
        "    \n",
        "    MAT_INDo[0,6]=MAT_IND[0,15]   # VALOR Fo   \n",
        "    MAT_INDo[0,7]=MAT_IND[0,16]   # VALOR CRo\n",
        "    \n",
        "NOMES=['DIVERSIDADE (DI)',  'DI RELATIVO','FRAC Its',\n",
        "           'VELOC FOBJ','VELOC X','NP','Fo','CRo','fmin','fmax',\n",
        "           'AD_fmin','AD_fmax','DELTA FOBJ','DELTA VX','r_fitness',\n",
        "           'F','CR']\n",
        "df  = pd.DataFrame(MAT, columns=NOMES)\n",
        "pd.set_option('display.max_columns', 30)\n",
        "pd.set_option('display.max_rows', 30)\n",
        "print(df)"
      ],
      "execution_count": 0,
      "outputs": [
        {
          "output_type": "stream",
          "text": [
            "   DIVERSIDADE (DI)  DI RELATIVO  FRAC Its  VELOC FOBJ  VELOC X    NP   Fo  \\\n",
            "0        395.701738     0.997452  0.166667         0.0      0.0  20.0  0.5   \n",
            "1        431.088777     1.086653  0.333333         1.0      2.0  20.0  1.0   \n",
            "2        416.893602     1.050871  0.500000         0.0      0.0  20.0  1.5   \n",
            "3        433.223620     1.092034  0.666667         1.0      2.0  20.0  2.0   \n",
            "4        418.968681     1.056101  0.833333         0.0      0.0  20.0  2.5   \n",
            "5        432.621919     1.090517  1.000000         0.0      0.0  20.0  3.0   \n",
            "\n",
            "    CRo        fmin         fmax  AD_fmin  AD_fmax  DELTA FOBJ  DELTA VX  \\\n",
            "0   0.5  410.124713  1188.406609      1.0      1.0         0.0       0.0   \n",
            "1   2.5  261.448933  1098.149461      1.0      1.0         0.0       0.0   \n",
            "2   4.5  261.448933  1001.205140      1.0      1.0         0.0       0.0   \n",
            "3   6.5  191.484893   854.953735      1.0      1.0         0.0       0.0   \n",
            "4   8.5  191.484893   854.953735      1.0      1.0         0.0       0.0   \n",
            "5  10.5  191.484893   789.556208      1.0      1.0         0.0       0.0   \n",
            "\n",
            "   r_fitness    F    CR  \n",
            "0   0.654895  1.0   2.5  \n",
            "1   0.761919  1.5   4.5  \n",
            "2   0.738866  2.0   6.5  \n",
            "3   0.776029  2.5   8.5  \n",
            "4   0.776029  3.0  10.5  \n",
            "5   0.757478  3.5  12.5  \n"
          ],
          "name": "stdout"
        }
      ]
    }
  ]
}