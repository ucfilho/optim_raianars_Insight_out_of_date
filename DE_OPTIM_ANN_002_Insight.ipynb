{
  "nbformat": 4,
  "nbformat_minor": 0,
  "metadata": {
    "colab": {
      "name": "DE_OPTIM_ANN_002_Insight.ipynb",
      "provenance": [],
      "collapsed_sections": [],
      "include_colab_link": true
    },
    "kernelspec": {
      "name": "python3",
      "display_name": "Python 3"
    },
    "language_info": {
      "codemirror_mode": {
        "name": "ipython",
        "version": 3
      },
      "file_extension": ".py",
      "mimetype": "text/x-python",
      "name": "python",
      "nbconvert_exporter": "python",
      "pygments_lexer": "ipython3",
      "version": "3.7.3"
    },
    "accelerator": "GPU"
  },
  "cells": [
    {
      "cell_type": "markdown",
      "metadata": {
        "id": "view-in-github",
        "colab_type": "text"
      },
      "source": [
        "<a href=\"https://colab.research.google.com/github/ucfilho/optim_raianars_Insight_out_of_date/blob/master/DE_OPTIM_ANN_002_Insight.ipynb\" target=\"_parent\"><img src=\"https://colab.research.google.com/assets/colab-badge.svg\" alt=\"Open In Colab\"/></a>"
      ]
    },
    {
      "cell_type": "code",
      "metadata": {
        "colab_type": "code",
        "id": "VNDZTKWUBOge",
        "outputId": "500da760-20bd-4a7b-f308-fb183acd382f",
        "colab": {
          "base_uri": "https://localhost:8080/",
          "height": 36
        }
      },
      "source": [
        "############################### Importar códigos\n",
        "\n",
        "!git clone https://github.com/ucfilho/optim_raianars_Insight/ #clonar do Github"
      ],
      "execution_count": 0,
      "outputs": [
        {
          "output_type": "stream",
          "text": [
            "fatal: destination path 'optim_raianars_Insight' already exists and is not an empty directory.\n"
          ],
          "name": "stdout"
        }
      ]
    },
    {
      "cell_type": "code",
      "metadata": {
        "colab_type": "code",
        "id": "btZL0H3XBPx-",
        "outputId": "b3706893-6406-4f64-f94d-165048bf67bb",
        "colab": {
          "base_uri": "https://localhost:8080/",
          "height": 36
        }
      },
      "source": [
        "%cd optim_raianars_Insight\n",
        "#!ls"
      ],
      "execution_count": 0,
      "outputs": [
        {
          "output_type": "stream",
          "text": [
            "/content/optim_raianars_Insight\n"
          ],
          "name": "stdout"
        }
      ]
    },
    {
      "cell_type": "code",
      "metadata": {
        "id": "DPPw3xXOut6g",
        "colab_type": "code",
        "colab": {}
      },
      "source": [
        "def AvaliaX(X):\n",
        "  nrow,ncol=X.shape\n",
        "  fitness = np.asarray([Fun(ind) for ind in X])\n",
        "  best_idx = np.argmin(fitness)\n",
        "  best = X[best_idx]\n",
        "  fobj_best = fitness[best_idx]\n",
        "  y=fitness\n",
        "  BEST=best\n",
        "  FOBEST=fobj_best\n",
        "  XY= np.c_[X,y] #concatena x e y em 2 colunas            \n",
        "  XYsorted = XY[XY[:,-1].argsort()] #Ordena a partir da last col(Y) for all row\n",
        "  x=XYsorted[:,0:ncol]\n",
        "  XY=XYsorted\n",
        "  BEST_XY =np.append(BEST,FOBEST)\n",
        "  return XY,BEST_XY,BEST,FOBEST"
      ],
      "execution_count": 0,
      "outputs": []
    },
    {
      "cell_type": "code",
      "metadata": {
        "id": "B7iwhNIlDXv2",
        "colab_type": "code",
        "colab": {}
      },
      "source": [
        "############################### Importar bibliotecas e iniciar a contagem do tempo\n",
        "import time\n",
        "import matplotlib.pyplot as plt\n",
        "import numpy as np\n",
        "from random import randint\n",
        "from scipy import optimize\n",
        "import de_bounds_matriz\n",
        "import de_soma_Insight\n",
        "import pandas as pd\n",
        "###############################"
      ],
      "execution_count": 0,
      "outputs": []
    },
    {
      "cell_type": "code",
      "metadata": {
        "colab_type": "code",
        "id": "v1OxgXboBKoG",
        "colab": {}
      },
      "source": [
        "############################### DADOS DE ENTRADA \n",
        "RUNS=1 #NÚMERO DE RODADAS\n",
        "#mut=0.8\n",
        "#crossp=0.7\n",
        "  ############################### Função\n",
        "import Function\n",
        "\n",
        "'''\n",
        "Fun=Function.Rosenbrock\n",
        "dim=30\n",
        "MAX=np.repeat(10,dim)\n",
        "MIN=np.repeat(-10,dim)\n",
        "\n",
        "  #Global optimum: f(xi)= 0\n",
        "'''\n",
        "'''\n",
        "dim=30\n",
        "Fun=Function.Sphere\n",
        "MAX=np.repeat(5.12,dim)\n",
        "MIN=np.repeat(-5.12,dim)\n",
        "  # f(x)=0 x=(0,0) [-5.12,5.12]\n",
        "'''\n",
        "#'''\n",
        "dim=2\n",
        "Fun=Function.Schwefel\n",
        "MAX=np.repeat(500,dim)\n",
        "MIN=np.repeat(-500,dim)\n",
        "  #Global optimum: f(xi)= 0 for xi = 420.968746 for i=1,...,n  ;  xi in [-500,500]  \n",
        "#'''\n",
        "'''\n",
        "dim=30\n",
        "Fun=Function.Rastrigin\n",
        "MAX=np.repeat(5.12,dim)\n",
        "MIN=np.repeat(-5.12,dim)\n",
        "  # f(x)=0 x=(0,0) [-5.12,5.12]\n",
        "'''\n",
        "'''\n",
        "dim=30\n",
        "Fun=Function.Sum_of_different_powers\n",
        "MAX=np.repeat(1,dim)\n",
        "MIN=np.repeat(-1,dim)\n",
        "  # f(x)=0 x=(0,0)\n",
        "'''\n",
        "'''  \n",
        "dim=30\n",
        "Fun=Function.Ackley\n",
        "MAX=np.repeat(32,dim)\n",
        "MIN=np.repeat(-32,dim)\n",
        " # f(x)=0 x=(0,0) [-32, 32]\n",
        "'''\n",
        "'''  \n",
        "dim=30\n",
        "Fun=Function.Michalewicz\n",
        "MAX=np.repeat(np.pi,dim)\n",
        "MIN=np.repeat(0,dim)\n",
        " #fx=-9.66015 p/ d=10 [0,pi]\n",
        "'''\n",
        "'''  \n",
        "dim=30\n",
        "Fun=Function.\n",
        "MAX=np.repeat(1,dim)\n",
        "MIN=np.repeat(-1,dim)\n",
        "'''\n",
        "\n",
        "PAR=len(MAX) #NUM DE PARAMETROS A SER OTIMIZADOS\n"
      ],
      "execution_count": 0,
      "outputs": []
    },
    {
      "cell_type": "code",
      "metadata": {
        "colab_type": "code",
        "id": "BDMwd41C5ahQ",
        "colab": {}
      },
      "source": [
        "def GeraIndices(X,BESTo,FOBESTo,CRo,Fo,DIo,SOMA,TOTAL):\n",
        "  QUANT=17 # quantos indices esta fazendo\n",
        "  MAT_IND=np.zeros((1,QUANT))\n",
        "  #MAT_INDi=np.zeros((1,QUANT))\n",
        "  SOLUCOES=np.zeros((1,dimensions))\n",
        "  SOLUCOESi=np.zeros((1,dimensions))\n",
        "\n",
        "  REF=0.1 # REFERENCIA DE DIFERENCAS ENTRE OS ELEMENTOS\n",
        "  nrow,ncol=X.shape\n",
        "  FOBESTm=1e99\n",
        "  XY,BEST_XY,BEST,FOBEST=AvaliaX(X)\n",
        "  soma=0\n",
        "  for j in range(ncol):\n",
        "    for i in range(nrow):\n",
        "        Xj=np.mean(X[:,j])\n",
        "        soma=soma+(X[i,j]-Xj)**2\n",
        "  # DI_ini=(soma/nrow)**0.5 a relativa precisa ser calculada fora do loop  FORA?\n",
        "  DI=(soma/nrow)**0.5\n",
        "  DIr=DI/DIo\n",
        "  MAT_IND[0,0]=DI #dispersao\n",
        "  MAT_IND[0,1]=DIr # dispersao relativa\n",
        "  MAT_IND[0,2]=SOMA/TOTAL # fracao relativa\n",
        "  # MAT_IND[0,3] velocidade relativa\n",
        "  V1=FOBESTo\n",
        "  V2=FOBEST\n",
        "  A=2*V2\n",
        "  if(V1 > A):\n",
        "    MAT_IND[0,3]=2 # o valor de fobj torna pelo menos duas vezes melhor\n",
        "  elif (V2==V1):\n",
        "    MAT_IND[0,3]=0 # o valor de fobj nao altera\n",
        "  else:\n",
        "    MAT_IND[0,3]=1 # o valor de fobj melhora mas menos que duas vezes\n",
        "  \n",
        "  # MAT_IND[0,4]  # VELOC X\n",
        "  DELTA=np.amax(abs(BEST-BESTo))\n",
        "  if( DELTA >REF):\n",
        "    MAT_IND[0,4]=2 # difere  for i in range(1,len(PARTIC)):\n",
        "  elif ( DELTA == 0):\n",
        "    MAT_IND[0,4]=0 # sem diferenca entre as posicoes do xbest entre duas buscas\n",
        "  else:\n",
        "    MAT_IND[0,4]=1 # diferenca entre as posicoes  do xbest menor que ref\n",
        "\n",
        "  MAT_IND[0,5]=nrow  # VALOR NP\n",
        "  MAT_IND[0,6]=Fo    # VALOR Fo   \n",
        "  MAT_IND[0,7]=CRo   # VALOR CRo\n",
        "  nrow,ncol=XY.shape\n",
        "  MAT_IND[0,8]=XY[0,(ncol-1)] # VALOR fmin\n",
        "  MAT_IND[0,9]=XY[(nrow-1),(ncol-1)] # VALOR fmax\n",
        "  # MAT_IND[0,10] # Valor AD_fmin \n",
        "  if abs(MAT_IND[0,8]/MAT_IND[0,8])>1:\n",
        "    MAT_IND[0,10]=1/abs(MAT_IND[0,8])\n",
        "  else:\n",
        "    MAT_IND[0,10]=MAT_IND[0,8]/MAT_IND[0,8]\n",
        "  # MAT_IND[0,11] # Valor AD_fmax\n",
        "  if abs(MAT_IND[0,9]/MAT_IND[0,9])>1: # tem que pegar primeira\n",
        "    MAT_IND[0,11]=1/abs(MAT_IND[0,9]) # tem que pegar primeira\n",
        "  else:\n",
        "    MAT_IND[0,11]=MAT_IND[0,9]/MAT_IND[0,9] # tem que pegar do anterior\n",
        "\n",
        "  # MAT_IND[0,12] # DELTA Fobj\n",
        "  MAT_IND[0,12]=MAT_IND[0,3]-MAT_IND[0,3]  # tem que pegar do anterior\n",
        "  \n",
        "\n",
        "  # MAT_IND[0,13] # DELTA Vx\n",
        "  MAT_IND[0,13]=MAT_IND[0,4]-MAT_IND[0,4]  # tem que pegar do anterior\n",
        "\n",
        "  # MAT_IND[0,14] # r_fitness\n",
        "  Fmin=0.05\n",
        "  if (MAT_IND[0,8]==0):\n",
        "    MAT_IND[0,14]=Fmin\n",
        "  elif (MAT_IND[0,9]==0):\n",
        "    MAT_IND[0,14]=Fmin\n",
        "  else:\n",
        "    if abs(MAT_IND[0,9]/MAT_IND[0,8])<1:\n",
        "      MAT_IND[0,14]=1-abs(MAT_IND[0,9]/MAT_IND[0,8])\n",
        "    else:\n",
        "      MAT_IND[0,14]=1-abs(MAT_IND[0,8]/MAT_IND[0,9])\n",
        "  # MAT_IND[0,15] # valor de F que sai da rede\n",
        "  MAT_IND[0,15]=Fo\n",
        "  # MAT_IND[0,16] # valor de CR que sai da rede\n",
        "  MAT_IND[0,16]=CRo\n",
        "  '''\n",
        "  for k in range(PAR):        \n",
        "    MAT_IND[k,:]=INDICE\n",
        "    SOLUCOES[k,:]=BEST\n",
        "    MAT_IND[k,2]=SOMA/TOTAL nao tem sentido por enquanto FORA?\n",
        "    MAT_IND[k,1]=INDICE[0]/DI_ini nao tem sentido por enquanto FORA?\n",
        "    MAT_IND[k,3]=FOBEST\n",
        "    MAT_IND[k,8]=XY[0,(Col-1)]\n",
        "    MAT_IND[k,9]=XY[(Lin-1),(Col-1)]\n",
        "    DELTA=[]\n",
        "    DELTA=np.amax(abs(SOLUCOES[i-1,:]-SOLUCOES[i,:]))\n",
        "  \n",
        "         \n",
        "  #MAT_IND[k,:]=INDICE\n",
        "  #SOLUCOES[k,:]=BEST\n",
        "  #MAT_IND[k,2]=SOMA/TOTAL nao tem sentido por enquanto FORA?\n",
        "  #MAT_IND[k,1]=INDICE[0]/DI_ini nao tem sentido por enquanto FORA?\n",
        "  MAT_IND[0,3]=FOBEST\n",
        "  MAT_IND[0,8]=XY[0,(ncol-1)]\n",
        "  MAT_IND[0,9]=XY[(nrow-1),(ncol-1)]\n",
        "  DELTA=[]\n",
        "  DELTA=np.amax(abs(SOLUCOES[i-1,:]-SOLUCOES[i,:]))\n",
        "\n",
        "  if FOBEST<FOBESTm:\n",
        "    FOBESTm=np.copy(FOBEST)\n",
        "    BESTm=np.copy(BEST)\n",
        "    MAT_IND[0,:]=INDICE\n",
        "    SOLUCOES[0,:]=BEST\n",
        "    MAT_IND[0,2]=SOMA/TOTAL\n",
        "    MAT_IND[0,1]=INDICE[0]/DI_ini\n",
        "    MAT_IND[0,3]=FOBEST\n",
        "\n",
        "\n",
        "  AUX=[]    \n",
        "  AUX= np.copy(MAT_IND)  \n",
        "  '''\n",
        "\n",
        "  '''\n",
        "  for i in range(1,len(PARTIC)):\n",
        "    V1=AUX[i-1,3]\n",
        "    V2=AUX[i,3]\n",
        "    A=2*V2\n",
        "    if(V1 > A):\n",
        "      MAT_IND[i,3]=2 # o valor de fobj torna pelo menos duas vezes melhor\n",
        "    elif (V2==V1):\n",
        "      MAT_IND[i,3]=0 # o valor de fobj nao altera\n",
        "    else:\n",
        "      MAT_IND[i,3]=1 # o valor de fobj melhora mas menos que duas vezes\n",
        "      MAT_IND[k,8]=XY[0,(Col-1)]\n",
        "      MAT_IND[k,9]=XY[(Lin-1),(Col-1)]\n",
        "\n",
        "    if abs(MAT_IND[k,9]/MAT_IND[0,9])>1:\n",
        "      MAT_IND[0,11]=1/abs(MAT_IND[k,9])\n",
        "    else:\n",
        "      MAT_IND[0,11]=MAT_IND[k,9]/MAT_IND[0,9]\n",
        "\n",
        "    if abs(MAT_IND[0,8]/MAT_IND[0,8])>1:\n",
        "      MAT_IND[0,10]=1/abs(MAT_IND[0,8])\n",
        "    else:\n",
        "      MAT_IND[k,10]=MAT_IND[k,8]/MAT_IND[0,8]\n",
        "\n",
        "  MAT_IND[0,3]=0 \n",
        "  \n",
        "  for k in range(len(PARTIC)):\n",
        "    if abs(MAT_IND[k,9]/MAT_IND[0,9])>1:\n",
        "      MAT_IND[k,11]=1/abs(MAT_IND[k,9])\n",
        "    else:\n",
        "      MAT_IND[k,11]=MAT_IND[k,9]/MAT_IND[0,9]\n",
        "\n",
        "    if abs(MAT_IND[k,8]/MAT_IND[0,8])>1:\n",
        "      MAT_IND[k,10]=1/abs(MAT_IND[k,8])\n",
        "    else:\n",
        "      MAT_IND[k,10]=MAT_IND[k,8]/MAT_IND[0,8]\n",
        "    \n",
        "  for i in range(1,len(PARTIC)):\n",
        "    MAT_IND[i,12]=MAT_IND[i,3]-MAT_IND[i-1,3]\n",
        "    MAT_IND[i,13]=MAT_IND[i,4]-MAT_IND[i-1,4]\n",
        "   \n",
        "    if( DELTA >REF):\n",
        "      MAT_IND[i,4]=2 # difere  for i in range(1,len(PARTIC)):\n",
        "      MAT_IND[i,12]=MAT_IND[i,3]-MAT_IND[i-1,3]\n",
        "      MAT_IND[i,13]=MAT_IND[i,4]-MAT_IND[i-1,4]\n",
        "   \n",
        "     #DELTA=[]\n",
        "     #DELTA=np.amax(abs(SOLUCOES[i-1,:]-SOLUCOES[i,:]))\n",
        "     #print(SOLUCOES[i-1,:])\n",
        "     #print(SOLUCOES[i,:])\n",
        "     #print(DELTA)\n",
        "      MAT_IND[i,4]=2 # diferenca entre as posicoes do xbest maior que ref\n",
        "    elif ( DELTA == 0):\n",
        "      MAT_IND[i,4]=0 # sem diferenca entre as posicoes do xbest entre duas buscas\n",
        "    else:\n",
        "      MAT_IND[i,4]=1 # diferenca entre as posicoes  do xbest menor que ref\n",
        "  '''\n",
        "  '''  \n",
        "  MAT_IND[0,12]=0\n",
        "  MAT_IND[0,13]=0\n",
        "  \n",
        "  for i in range(len(PARTIC)):\n",
        "    MAT_IND[i,5]=int(PARTIC[i]) \n",
        "    MAT_IND[i,6]=Fi[i]\n",
        "    MAT_IND[i,7]=CRi[i] \n",
        "\n",
        "  MAT_IND[0,3]=0\n",
        "\n",
        "  Fmin=0.05\n",
        "  for i in range(len(PARTIC)):\n",
        "    if (MAT_IND[i,8]==0):\n",
        "      MAT_IND[i,14]=Fmin\n",
        "    elif (MAT_IND[i,9]==0):\n",
        "      MAT_IND[i,14]=Fmin\n",
        "    else:\n",
        "      if abs(MAT_IND[i,9]/MAT_IND[i,8])<1:\n",
        "        MAT_IND[i,14]=1-abs(MAT_IND[i,9]/MAT_IND[i,8])\n",
        "      else:\n",
        "        MAT_IND[i,14]=1-abs(MAT_IND[i,8]/MAT_IND[i,9])\n",
        "\n",
        "  '''\n",
        "  return MAT_IND\n",
        "\n"
      ],
      "execution_count": 0,
      "outputs": []
    },
    {
      "cell_type": "code",
      "metadata": {
        "id": "Mb3LmbSmj9v7",
        "colab_type": "code",
        "outputId": "1cca58c2-bbe3-47ad-db7d-fa508b0a022f",
        "colab": {
          "base_uri": "https://localhost:8080/",
          "height": 261
        }
      },
      "source": [
        "##################################### IMPORTAR MÓDULOS\n",
        "\n",
        "NMAX=1000 # maximo tamanho da populacao\n",
        "\n",
        "dimensions=len(MAX)\n",
        "\n",
        "start_time = time.time() #INICIALIZA CONTAGEM DO TEMPO\n",
        "its=10 # quantas vezes vai usar o NPAR antes de alterar de novo\n",
        "ITE=10 # PONTOS quantas vezes vai alteral NPAR \n",
        "#PARTIC=[10,80,10,400,100,100,100,100,100,100]\n",
        "#ITE=50 # so para testar\n",
        "\n",
        "#TOTAL=7*dim*its*ITE\n",
        "TOTAL=10*dim*its*ITE\n",
        "\n",
        "maxiter=3\n",
        "popsize=5\n",
        "p=int(TOTAL/its/ITE) \n",
        "NPAR=p\n",
        "#PARTIC=np.zeros(ITE) # porque isto se eh redefinido mais em baixo e nao eh usado aqui\n",
        "MAX_P=np.zeros(ITE) # ATENCAO para variar F e Cr MAX_P passa a ser 3 vezes maior\n",
        "MIN_P=np.zeros(ITE) # ATENCAO para variar F e Cr  MIN_P passa a ser 3 vezes maior\n",
        "\n",
        "for i in range(dim):\n",
        "  MAX_P[i]=MAX[i] \n",
        "  MIN_P[i]=MIN[i]\n",
        "\n",
        "\n",
        "for i in range(RUNS):\n",
        "  SOMA=0\n",
        "  pop = np.random.rand(NPAR, dimensions)\n",
        "  diff=np.zeros(PAR)\n",
        "  for ii in range(PAR):\n",
        "    diff[ii] = MAX[ii]-MIN[ii]\n",
        "  X = MIN + pop * diff\n",
        "    \n",
        "  PONTOS=ITE # DIVISOES DA POPULACAO\n",
        " \n",
        " ############################################################\n",
        "  #bounds=[(5*dim, 15*dim)] * PONTOS # ITE\n",
        "  #bounds=[(3*dim, 12*dim)] * PONTOS # ITE\n",
        "  #bounds=[(4*dim, 16*dim)] * PONTOS\n",
        "  \n",
        "  # nao pode ser assim pq o bounds vale p o DE nao dos parametros\n",
        "  #p=int(TOTAL/its/ITE) \n",
        "  bounds=[(p, p)] * PONTOS\n",
        "  #bounds=[]\n",
        "  #for k in range(dim):\n",
        "  #  bounds.append((MIN[k], MAX[k]))\n",
        "  # print(\"=========bounds=\",bounds)\n",
        "    \n",
        "\n",
        "\n",
        "  '''\n",
        "  #Geral\n",
        "  new_mut=(0,1)\n",
        "  new_crossp=(0,1)\n",
        "  '''\n",
        "  #'''\n",
        "  #Multimodal Separável \n",
        "  new_mut=(0.5,1)\n",
        "  new_crossp=(0,0.5)\n",
        "  #'''\n",
        "  '''\n",
        "  #Multimodal Não Separável \n",
        "  new_mut=(0.5,1)\n",
        "  new_crossp=(0.5,1)\n",
        "  '''\n",
        "  '''\n",
        "  ##### Unimodal Separável\n",
        "  new_mut=(0,0.5)\n",
        "  new_crossp=(0,0.5)\n",
        "  '''\n",
        "  '''\n",
        "  ##### Unimodal Não Separável\n",
        "  new_mut=(0,0.5)\n",
        "  new_crossp=(0.5,1)\n",
        "  '''\n",
        " ############################################################ \n",
        "  # nao pode ser assim pq o bounds vale p o DE nao dos parametros\n",
        "  ''' '''\n",
        "  for j in range(PONTOS):\n",
        "    bounds.append(new_mut)\n",
        "    \n",
        "  for j in range(PONTOS):\n",
        "    bounds.append(new_crossp)\n",
        "\n",
        "  #print(\"=========bounds=\",bounds)\n",
        "  mut=0.5;crossp=0.5;\n",
        "  CRo=crossp;Fo=mut;\n",
        "  #Xo=np.copy(X)\n",
        "  XY,BEST_XY,BESTo,FOBESTo=AvaliaX(X)\n",
        "  DIo=1;\n",
        "  nrow,ncol=X.shape\n",
        "  # DIo  mut crossp FOmax FOmin Xmin Xmax\n",
        "  \n",
        "  MAT_IND=GeraIndices(X,BESTo,FOBESTo,CRo,Fo,DIo,SOMA,TOTAL)\n",
        "  DIo=MAT_IND[0,0]\n",
        "\n",
        "  for loop in range(ITE):\n",
        "    X,BEST,FOBEST,XY,BEST_XY,SOMA= de_soma_Insight.de(MAX,MIN, mut, crossp,\n",
        "                                                      NPAR, its,Fun,X,SOMA,TOTAL)\n",
        "    MAT_IND=GeraIndices(X,BESTo,FOBESTo,CRo,Fo,DIo,SOMA,TOTAL)\n",
        "    BESTo=np.copy(BEST);FOBESTo=np.copy(FOBEST);\n",
        "    print(MAT_IND[0,14])\n",
        "    Fo=0.5#MAT_IND[0,16]    # VALOR Fo   \n",
        "    CRo=0.8# MAT_IND[0,17]   # VALOR CRo\n",
        "    # chamar ANN calcula novos NP, CR, F \n",
        "    PARTIC=np.array([NPAR,mut,crossp])                                                       \n",
        "    #print('otimo FOBEST=',FOBEST)\n",
        "    #print(\"BEST=\",BEST)\n",
        "    #print(\"Soma= \",SOMA)                                                    \n",
        "  #X,BEST,FOBEST,XY,BEST_XY,SOMA\n",
        "  #  global MAX,MIN, mut, crossp, NPAR, its,Fun,X,SOMA,TOTAL,ITE,PARTIC\n",
        "\n",
        "  '''\n",
        "  print('OTIMIZAÇÃO DE_','maxiter=',maxiter,'_ popsize=', popsize,'_ bounds=',\n",
        "        bounds[0],'_F',new_mut,'_Cr',new_crossp,'_ TOTAL=',TOTAL,'_ Dim=', \n",
        "        PAR,\"_Min/Max=\",MIN[0],\"/\",MAX[0],'_',Fun.__name__)\n",
        "  '''\n",
        "  #print('otimo FOBEST=',FOBEST)\n",
        "  #print(\"BEST=\",BEST)\n",
        "  #print(\"Soma= \",SOMA) \n",
        "#print(\"GlobalParam e Solucao:\", BEST,\"Função=\",FOBEST)     \n"
      ],
      "execution_count": 0,
      "outputs": [
        {
          "output_type": "stream",
          "text": [
            "0.8427204182662211\n",
            "0.9961701360296041\n",
            "0.9937789301459683\n",
            "0.9962260601624503\n",
            "0.9953352747946308\n",
            "0.9869046153846154\n",
            "0.9944237918215614\n",
            "0.05\n",
            "0.05\n",
            "0.05\n"
          ],
          "name": "stdout"
        },
        {
          "output_type": "stream",
          "text": [
            "/usr/local/lib/python3.6/dist-packages/ipykernel_launcher.py:50: RuntimeWarning: invalid value encountered in double_scalars\n",
            "/usr/local/lib/python3.6/dist-packages/ipykernel_launcher.py:53: RuntimeWarning: invalid value encountered in double_scalars\n"
          ],
          "name": "stderr"
        }
      ]
    },
    {
      "cell_type": "code",
      "metadata": {
        "id": "pBrttr8Nz2X8",
        "colab_type": "code",
        "outputId": "82470fa8-195c-4394-d625-665371a069cc",
        "colab": {
          "base_uri": "https://localhost:8080/",
          "height": 73
        }
      },
      "source": [
        "XY,BEST_XY,BEST,FOBEST=AvaliaX(X)\n",
        "print(BEST);print(FOBEST)\n",
        "print(BEST)"
      ],
      "execution_count": 0,
      "outputs": [
        {
          "output_type": "stream",
          "text": [
            "[420.96874621 420.96874665]\n",
            "0.0\n",
            "[420.96874621 420.96874665]\n"
          ],
          "name": "stdout"
        }
      ]
    },
    {
      "cell_type": "code",
      "metadata": {
        "id": "v8WzaU6k9MZl",
        "colab_type": "code",
        "outputId": "8cbe58e2-af76-489c-f35f-0e9a7a918ee3",
        "colab": {
          "base_uri": "https://localhost:8080/",
          "height": 36
        }
      },
      "source": [
        "XY.shape"
      ],
      "execution_count": 0,
      "outputs": [
        {
          "output_type": "execute_result",
          "data": {
            "text/plain": [
              "(20, 3)"
            ]
          },
          "metadata": {
            "tags": []
          },
          "execution_count": 9
        }
      ]
    },
    {
      "cell_type": "code",
      "metadata": {
        "id": "p3JNQRrQmqpN",
        "colab_type": "code",
        "outputId": "bdb18b8c-f769-43b0-fcf6-06fcd2beb925",
        "colab": {
          "base_uri": "https://localhost:8080/",
          "height": 55
        }
      },
      "source": [
        "nrow,ncol=X.shape\n",
        "print(nrow);print(ncol)"
      ],
      "execution_count": 0,
      "outputs": [
        {
          "output_type": "stream",
          "text": [
            "20\n",
            "2\n"
          ],
          "name": "stdout"
        }
      ]
    }
  ]
}