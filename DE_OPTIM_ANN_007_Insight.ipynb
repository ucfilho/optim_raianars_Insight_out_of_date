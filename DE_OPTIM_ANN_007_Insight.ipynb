{
  "nbformat": 4,
  "nbformat_minor": 0,
  "metadata": {
    "colab": {
      "name": "DE_OPTIM_ANN_007_Insight.ipynb",
      "provenance": [],
      "collapsed_sections": [],
      "include_colab_link": true
    },
    "kernelspec": {
      "name": "python3",
      "display_name": "Python 3"
    },
    "language_info": {
      "codemirror_mode": {
        "name": "ipython",
        "version": 3
      },
      "file_extension": ".py",
      "mimetype": "text/x-python",
      "name": "python",
      "nbconvert_exporter": "python",
      "pygments_lexer": "ipython3",
      "version": "3.7.3"
    },
    "accelerator": "GPU"
  },
  "cells": [
    {
      "cell_type": "markdown",
      "metadata": {
        "id": "view-in-github",
        "colab_type": "text"
      },
      "source": [
        "<a href=\"https://colab.research.google.com/github/ucfilho/optim_raianars_Insight_out_of_date/blob/master/DE_OPTIM_ANN_007_Insight.ipynb\" target=\"_parent\"><img src=\"https://colab.research.google.com/assets/colab-badge.svg\" alt=\"Open In Colab\"/></a>"
      ]
    },
    {
      "cell_type": "code",
      "metadata": {
        "id": "qyA7a-1Tq5Fr",
        "colab_type": "code",
        "colab": {}
      },
      "source": [
        "import time\n",
        "import matplotlib.pyplot as plt\n",
        "import numpy as np\n",
        "from random import randint\n",
        "from scipy import optimize\n",
        "import pandas as pd"
      ],
      "execution_count": 0,
      "outputs": []
    },
    {
      "cell_type": "code",
      "metadata": {
        "id": "DPPw3xXOut6g",
        "colab_type": "code",
        "colab": {}
      },
      "source": [
        "def AvaliaX(X):\n",
        "  nrow,ncol=X.shape\n",
        "  fitness = np.asarray([Fun(ind) for ind in X])\n",
        "  best_idx = np.argmin(fitness)\n",
        "  best = X[best_idx]\n",
        "  fobj_best = fitness[best_idx]\n",
        "  y=fitness\n",
        "  BEST=best\n",
        "  FOBEST=fobj_best\n",
        "  XY= np.c_[X,y] #concatena x e y em 2 colunas            \n",
        "  XYsorted = XY[XY[:,-1].argsort()] #Ordena a partir da last col(Y) for all row\n",
        "  x=XYsorted[:,0:ncol]\n",
        "  XY=XYsorted\n",
        "  BEST_XY =np.append(BEST,FOBEST)\n",
        "  return XY,BEST_XY,BEST,FOBEST"
      ],
      "execution_count": 0,
      "outputs": []
    },
    {
      "cell_type": "code",
      "metadata": {
        "id": "B7iwhNIlDXv2",
        "colab_type": "code",
        "colab": {}
      },
      "source": [
        ""
      ],
      "execution_count": 0,
      "outputs": []
    },
    {
      "cell_type": "code",
      "metadata": {
        "id": "kZTJNsB7oBzY",
        "colab_type": "code",
        "colab": {}
      },
      "source": [
        "# Functions\n",
        "def sigmoid(x,deriv=False):\n",
        "    if(deriv==True):\n",
        "        return x*(1-x)\n",
        "    return 1/(1+np.exp(-x))\n",
        "\n",
        "def tasig(x,deriv=False):\n",
        "    if(deriv==True):\n",
        "        return 1-x*x\n",
        "    return 2/(1+np.exp(-2*x))-1\n",
        "\n",
        "# purelin function\n",
        "def purelin(x,deriv=False):\n",
        "    if(deriv==True):\n",
        "        return 1\n",
        "    #N=len(x)\n",
        "    #for i in range(N):\n",
        "      #if (x[i]>1):\n",
        "        #x[i]=1\n",
        "    return x"
      ],
      "execution_count": 0,
      "outputs": []
    },
    {
      "cell_type": "code",
      "metadata": {
        "id": "i5cteBfwoTrX",
        "colab_type": "code",
        "colab": {}
      },
      "source": [
        "# funcao normatiza dados\n",
        "def Normatiza(x):\n",
        "    strings=list(x)\n",
        "    for i in strings:\n",
        "        max_x=x[i].max()\n",
        "        min_x=x[i].min()\n",
        "        a=(max_x+min_x)/2\n",
        "        b=(max_x-min_x)/2\n",
        "        x[i]=(x[i]-a)/b\n",
        "    return x"
      ],
      "execution_count": 0,
      "outputs": []
    },
    {
      "cell_type": "code",
      "metadata": {
        "id": "0Jf2WiiZoeMA",
        "colab_type": "code",
        "colab": {}
      },
      "source": [
        "# funcao retorna os dados a forma original\n",
        "def Original(x,x_old):\n",
        "    strings=list(x)\n",
        "    for i in strings:\n",
        "        max_x=x_old[i].max()\n",
        "        min_x=x_old[i].min()\n",
        "        a=(max_x+min_x)/2\n",
        "        b=(max_x-min_x)/2\n",
        "        x[i]=x[i]*b+a\n",
        "    return x"
      ],
      "execution_count": 0,
      "outputs": []
    },
    {
      "cell_type": "code",
      "metadata": {
        "id": "HAxiPwHgoily",
        "colab_type": "code",
        "colab": {}
      },
      "source": [
        "def ANN_ycal(syn0,syn1,X_train):\n",
        "  l0 = X_train\n",
        "  l1 = tasig(np.dot(l0,syn0))\n",
        "  l2 = purelin(np.dot(l1,syn1))\n",
        "  y_calc=np.reshape(l2,len(l2))\n",
        "  return y_calc"
      ],
      "execution_count": 0,
      "outputs": []
    },
    {
      "cell_type": "code",
      "metadata": {
        "id": "QoJv9untomvJ",
        "colab_type": "code",
        "colab": {}
      },
      "source": [
        "def Classifica(ycalc):\n",
        "  n=len(ycalc)\n",
        "  for i in range(n):\n",
        "    if(ycalc[i]<0):\n",
        "      ycalc[i]=-1\n",
        "    else:\n",
        "      ycalc[i]=1\n",
        "  return ycalc"
      ],
      "execution_count": 0,
      "outputs": []
    },
    {
      "cell_type": "code",
      "metadata": {
        "id": "qTINtQ1cosZK",
        "colab_type": "code",
        "outputId": "791ae89f-0565-445f-a618-13e160d87b69",
        "colab": {
          "base_uri": "https://localhost:8080/",
          "height": 55
        }
      },
      "source": [
        "!git clone https://github.com/ucfilho/ANN_read_matrix #clonar do Github\n",
        "%cd ANN_read_matrix"
      ],
      "execution_count": 0,
      "outputs": [
        {
          "output_type": "stream",
          "text": [
            "fatal: destination path 'ANN_read_matrix' already exists and is not an empty directory.\n",
            "/content/ANN_read_matrix\n"
          ],
          "name": "stdout"
        }
      ]
    },
    {
      "cell_type": "code",
      "metadata": {
        "id": "QiQLYOoNoyCw",
        "colab_type": "code",
        "colab": {}
      },
      "source": [
        "\n",
        "'''\n",
        "ANN=pd.read_csv('ANN_2019-10-21_14h30min.csv')\n",
        "pd.set_option('display.max_columns', 30)\n",
        "print(ANN)\n",
        "'''\n",
        "ANN=pd.read_csv('ANN_ajusta.csv')\n",
        "pd.set_option('display.max_columns', 30)\n",
        "#print(ANN)"
      ],
      "execution_count": 0,
      "outputs": []
    },
    {
      "cell_type": "code",
      "metadata": {
        "id": "D-96FWbdpFDN",
        "colab_type": "code",
        "colab": {}
      },
      "source": [
        "#print(ANN.iloc[0,1]);print(ANN.iloc[1,1]);print(ANN.iloc[2,1]);print(ANN.iloc[3,1])\n",
        "nrow0=int(ANN.iloc[0,1]);#print(nrow0);\n",
        "ncol0=int(ANN.iloc[1,1]);#print(ncol0);\n",
        "nrow1=int(ANN.iloc[2,1]);#print(nrow1);\n",
        "ncol1=int(ANN.iloc[3,1]);#print(ncol1);\n",
        "Col=np.array(range(2,ncol0+2)); # print(Col)\n",
        "#Row=np.array(range(0,nrow0-1)); # print(Row)\n",
        "Row=np.array(range(0,nrow0)); # print(Row)\n",
        "#Col=range(2,ncol0-1); print(Col)\n",
        "#Row=range(0,nrow1-1); print(Row)\n",
        "syn0=np.array(ANN.iloc[Row,Col])\n",
        "syn0=pd.DataFrame(syn0).dropna() \n",
        "#print(syn0)\n",
        "syn0=np.array(syn0)\n",
        "#print(pd.DataFrame(syn0))\n",
        "ncol=int(ANN.iloc[0,1])\n",
        "syn1=ANN.iloc[:,(ncol0+ncol1+1)];#print(syn1)\n",
        "#nrow=len(syn1)\n",
        "nrow=len(np.array(syn1.dropna()))\n",
        "A=np.zeros((nrow,1));\n",
        "A[:,0]=np.copy(syn1.dropna());\n",
        "syn1=np.copy(A);#print(pd.DataFrame(syn1))"
      ],
      "execution_count": 0,
      "outputs": []
    },
    {
      "cell_type": "code",
      "metadata": {
        "id": "z7H0bUMdqY-t",
        "colab_type": "code",
        "outputId": "0801cfe7-81c6-4347-fa7b-8be4775f7204",
        "colab": {
          "base_uri": "https://localhost:8080/",
          "height": 55
        }
      },
      "source": [
        "############################### Importar códigos\n",
        "!git clone https://github.com/ucfilho/optim_raianars_Insight/ #clonar do Github\n",
        "%cd optim_raianars_Insight\n",
        "import de_soma_Insight\n",
        "import de_bounds_matriz"
      ],
      "execution_count": 0,
      "outputs": [
        {
          "output_type": "stream",
          "text": [
            "fatal: destination path 'optim_raianars_Insight' already exists and is not an empty directory.\n",
            "/content/ANN_read_matrix/optim_raianars_Insight\n"
          ],
          "name": "stdout"
        }
      ]
    },
    {
      "cell_type": "code",
      "metadata": {
        "colab_type": "code",
        "id": "v1OxgXboBKoG",
        "colab": {}
      },
      "source": [
        "############################### DADOS DE ENTRADA \n",
        "RUNS=1 #NÚMERO DE RODADAS\n",
        "#mut=0.8\n",
        "#crossp=0.7\n",
        "  ############################### Função\n",
        "import Function\n",
        "\n",
        "'''\n",
        "Fun=Function.Rosenbrock\n",
        "dim=30\n",
        "MAX=np.repeat(10,dim)\n",
        "MIN=np.repeat(-10,dim)\n",
        "\n",
        "  #Global optimum: f(xi)= 0\n",
        "'''\n",
        "'''\n",
        "dim=30\n",
        "Fun=Function.Sphere\n",
        "MAX=np.repeat(5.12,dim)\n",
        "MIN=np.repeat(-5.12,dim)\n",
        "  # f(x)=0 x=(0,0) [-5.12,5.12]\n",
        "'''\n",
        "#'''\n",
        "dim=2\n",
        "Fun=Function.Schwefel\n",
        "MAX=np.repeat(500,dim)\n",
        "MIN=np.repeat(-500,dim)\n",
        "  #Global optimum: f(xi)= 0 for xi = 420.968746 for i=1,...,n  ;  xi in [-500,500]  \n",
        "#'''\n",
        "'''\n",
        "dim=30\n",
        "Fun=Function.Rastrigin\n",
        "MAX=np.repeat(5.12,dim)\n",
        "MIN=np.repeat(-5.12,dim)\n",
        "  # f(x)=0 x=(0,0) [-5.12,5.12]\n",
        "'''\n",
        "'''\n",
        "dim=30\n",
        "Fun=Function.Sum_of_different_powers\n",
        "MAX=np.repeat(1,dim)\n",
        "MIN=np.repeat(-1,dim)\n",
        "  # f(x)=0 x=(0,0)\n",
        "'''\n",
        "'''  \n",
        "dim=30\n",
        "Fun=Function.Ackley\n",
        "MAX=np.repeat(32,dim)\n",
        "MIN=np.repeat(-32,dim)\n",
        " # f(x)=0 x=(0,0) [-32, 32]\n",
        "'''\n",
        "'''  \n",
        "dim=30\n",
        "Fun=Function.Michalewicz\n",
        "MAX=np.repeat(np.pi,dim)\n",
        "MIN=np.repeat(0,dim)\n",
        " #fx=-9.66015 p/ d=10 [0,pi]\n",
        "'''\n",
        "'''  \n",
        "dim=30\n",
        "Fun=Function.\n",
        "MAX=np.repeat(1,dim)\n",
        "MIN=np.repeat(-1,dim)\n",
        "'''\n",
        "\n",
        "PAR=len(MAX) #NUM DE PARAMETROS A SER OTIMIZADOS\n"
      ],
      "execution_count": 0,
      "outputs": []
    },
    {
      "cell_type": "code",
      "metadata": {
        "colab_type": "code",
        "id": "BDMwd41C5ahQ",
        "colab": {}
      },
      "source": [
        "def GeraIndices(X,BESTo,FOBESTo,DIo,MAT_INDo,SOMA,TOTAL):\n",
        "  global syn0,syn1\n",
        "  nrow,ncol=X.shape\n",
        "  FOBESTm=1e99\n",
        "  Fo=MAT_INDo[0,6]    # VALOR Fo   \n",
        "  CRo=MAT_INDo[0,7]   # VALOR CRo\n",
        "  QUANT=17 # quantos indices esta fazendo\n",
        "  MAT_IND=np.zeros((1,QUANT))\n",
        "\n",
        "  REF=0.1 # REFERENCIA DE DIFERENCAS ENTRE OS ELEMENTOS\n",
        "  \n",
        "  XY,BEST_XY,BEST,FOBEST=AvaliaX(X)\n",
        "  soma=0\n",
        "  for j in range(ncol):\n",
        "    for i in range(nrow):\n",
        "        Xj=np.mean(X[:,j])\n",
        "        soma=soma+(X[i,j]-Xj)**2\n",
        "  DI=(soma/nrow)**0.5\n",
        "  DIr=DI/DIo\n",
        "  MAT_IND[0,0]=DI #dispersao\n",
        "  MAT_IND[0,1]=DIr # dispersao relativa\n",
        "  MAT_IND[0,2]=SOMA/TOTAL # fracao relativa\n",
        "\n",
        "  V1=FOBESTo\n",
        "  V2=FOBEST\n",
        "  A=2*V2\n",
        "  if(V1 > A):\n",
        "    MAT_IND[0,3]=2 # o valor de fobj torna pelo menos duas vezes melhor\n",
        "  elif (V2==V1):\n",
        "    MAT_IND[0,3]=0 # o valor de fobj nao altera\n",
        "  else:\n",
        "    MAT_IND[0,3]=1 # o valor de fobj melhora mas menos que duas vezes\n",
        "  \n",
        "  # MAT_IND[0,4]  # VELOC X\n",
        "  DELTA=np.amax(abs(BEST-BESTo))\n",
        "  if( DELTA >REF):\n",
        "    MAT_IND[0,4]=2 # difere  for i in range(1,len(PARTIC)):\n",
        "  elif ( DELTA == 0):\n",
        "    MAT_IND[0,4]=0 # sem diferenca entre as posicoes do xbest entre duas buscas\n",
        "  else:\n",
        "    MAT_IND[0,4]=1 # diferenca entre as posicoes  do xbest menor que ref\n",
        "  \n",
        "  MAT_IND[0,5]=nrow  # VALOR NP\n",
        "  nrow,ncol=XY.shape\n",
        "  MAT_IND[0,8]=XY[0,(ncol-1)] # VALOR fmin\n",
        "  MAT_IND[0,9]=XY[(nrow-1),(ncol-1)] # VALOR fmax\n",
        "  # MAT_IND[0,10] # Valor AD_fmin \n",
        "  if abs(MAT_IND[0,8]/MAT_IND[0,8])>1:\n",
        "    MAT_IND[0,10]=1/abs(MAT_IND[0,8])\n",
        "  else:\n",
        "    MAT_IND[0,10]=MAT_IND[0,8]/MAT_IND[0,8]\n",
        "  # MAT_IND[0,11] # Valor AD_fmax\n",
        "  if abs(MAT_IND[0,9]/MAT_IND[0,9])>1: # tem que pegar primeira\n",
        "    MAT_IND[0,11]=1/abs(MAT_IND[0,9]) # tem que pegar primeira\n",
        "  else:\n",
        "    MAT_IND[0,11]=MAT_IND[0,9]/MAT_IND[0,9] # tem que pegar do anterior\n",
        "\n",
        "  # MAT_IND[0,12] # DELTA Fobj\n",
        "  MAT_IND[0,12]=MAT_IND[0,3]-MAT_IND[0,3]  # tem que pegar do anterior\n",
        "  \n",
        "\n",
        "  # MAT_IND[0,13] # DELTA Vx\n",
        "  MAT_IND[0,13]=MAT_IND[0,4]-MAT_IND[0,4]  # tem que pegar do anterior\n",
        "\n",
        "  # MAT_IND[0,14] # r_fitness\n",
        "  Fmin=0.05\n",
        "  if (MAT_IND[0,8]==0):\n",
        "    MAT_IND[0,14]=Fmin\n",
        "  elif (MAT_IND[0,9]==0):\n",
        "    MAT_IND[0,14]=Fmin\n",
        "  else:\n",
        "    if abs(MAT_IND[0,9]/MAT_IND[0,8])<1:\n",
        "      MAT_IND[0,14]=1-abs(MAT_IND[0,9]/MAT_IND[0,8])\n",
        "    else:\n",
        "      MAT_IND[0,14]=1-abs(MAT_IND[0,8]/MAT_IND[0,9])\n",
        "\n",
        "  MAT_IND[0,6]=Fo\n",
        "  MAT_IND[0,7]=CRo\n",
        "\n",
        "  # comecando a rede!!!\n",
        "  #x_train=np.zeros((1,QUANT))\n",
        "  #['DI RELATIVO', 'FRAC Its', 'Fo', 'CRo'] VALORES A USAR\n",
        "  #MAT_IND[0,1]=DIr # dispersao relativa\n",
        "  #MAT_IND[0,2]=SOMA/TOTAL # fracao relativa\n",
        "  #MAT_IND[0,6]=Fo\n",
        "  #MAT_IND[0,7]=CRo\n",
        "  x_train=MAT_INDo[0,[1,2,6,7]]\n",
        "  y_calc=ANN_ycal(syn0,syn1,x_train)\n",
        "  #print(x_train)\n",
        "  print(y_calc)\n",
        "  #print(syn0.shape)\n",
        "  #print()\n",
        "  Fo=Fo+0.5\n",
        "  CRo=CRo+2\n",
        "  \n",
        "  \n",
        "  MAT_IND[0,15]=Fo # valor de F que sai da rede\n",
        "  MAT_IND[0,16]=CRo # valor de CR que sai da rede\n",
        "\n",
        "  \n",
        "  return MAT_IND\n",
        "\n"
      ],
      "execution_count": 0,
      "outputs": []
    },
    {
      "cell_type": "code",
      "metadata": {
        "id": "Mb3LmbSmj9v7",
        "colab_type": "code",
        "outputId": "da79bc70-30fb-44df-e88d-05e4c018805a",
        "colab": {
          "base_uri": "https://localhost:8080/",
          "height": 577
        }
      },
      "source": [
        "##################################### IMPORTAR MÓDULOS\n",
        "\n",
        "NMAX=1000 # maximo tamanho da populacao\n",
        "\n",
        "dimensions=len(MAX)\n",
        "\n",
        "start_time = time.time() #INICIALIZA CONTAGEM DO TEMPO\n",
        "its=1 # quantas vezes vai usar o NPAR antes de alterar de novo\n",
        "ITE=6 # PONTOS quantas vezes vai alteral NPAR \n",
        "#PARTIC=[10,80,10,400,100,100,100,100,100,100]\n",
        "#ITE=50 # so para testar\n",
        "\n",
        "#TOTAL=7*dim*its*ITE\n",
        "TOTAL=10*dim*its*ITE\n",
        "\n",
        "maxiter=3\n",
        "popsize=5\n",
        "p=int(TOTAL/its/ITE) \n",
        "NPAR=p\n",
        "\n",
        "MAX_P=np.zeros(ITE) # ATENCAO para variar F e Cr MAX_P passa a ser 3 vezes maior\n",
        "MIN_P=np.zeros(ITE) # ATENCAO para variar F e Cr  MIN_P passa a ser 3 vezes maior\n",
        "\n",
        "for i in range(dim):\n",
        "  MAX_P[i]=MAX[i] \n",
        "  MIN_P[i]=MIN[i]\n",
        "\n",
        "\n",
        "for i in range(RUNS):\n",
        "  SOMA=0\n",
        "  pop = np.random.rand(NPAR, dimensions)\n",
        "  diff=np.zeros(PAR)\n",
        "  for ii in range(PAR):\n",
        "    diff[ii] = MAX[ii]-MIN[ii]\n",
        "  X = MIN + pop * diff\n",
        "    \n",
        "  PONTOS=ITE # DIVISOES DA POPULACAO\n",
        " \n",
        " ############################################################\n",
        "  #bounds=[(5*dim, 15*dim)] * PONTOS # ITE\n",
        "  #bounds=[(3*dim, 12*dim)] * PONTOS # ITE\n",
        "  #bounds=[(4*dim, 16*dim)] * PONTOS\n",
        "  \n",
        "  # nao pode ser assim pq o bounds vale p o DE nao dos parametros\n",
        "  #p=int(TOTAL/its/ITE) \n",
        "  bounds=[(p, p)] * PONTOS\n",
        "  #bounds=[]\n",
        "  #for k in range(dim):\n",
        "  #  bounds.append((MIN[k], MAX[k]))\n",
        "  # print(\"=========bounds=\",bounds)\n",
        "    \n",
        "\n",
        "\n",
        "  '''\n",
        "  #Geral\n",
        "  new_mut=(0,1)\n",
        "  new_crossp=(0,1)\n",
        "  '''\n",
        "  #'''\n",
        "  #Multimodal Separável \n",
        "  new_mut=(0.5,1)\n",
        "  new_crossp=(0,0.5)\n",
        "  #'''\n",
        "  '''\n",
        "  #Multimodal Não Separável \n",
        "  new_mut=(0.5,1)\n",
        "  new_crossp=(0.5,1)\n",
        "  '''\n",
        "  '''\n",
        "  ##### Unimodal Separável\n",
        "  new_mut=(0,0.5)\n",
        "  new_crossp=(0,0.5)\n",
        "  '''\n",
        "  '''\n",
        "  ##### Unimodal Não Separável\n",
        "  new_mut=(0,0.5)\n",
        "  new_crossp=(0.5,1)\n",
        "  '''\n",
        " ############################################################ \n",
        "  # nao pode ser assim pq o bounds vale p o DE nao dos parametros\n",
        "  ''' '''\n",
        "  for j in range(PONTOS):\n",
        "    bounds.append(new_mut)\n",
        "    \n",
        "  for j in range(PONTOS):\n",
        "    bounds.append(new_crossp)\n",
        "\n",
        "  DIo=1e99\n",
        "  mut=0.5;crossp=0.5;\n",
        "  CRo=crossp;Fo=mut;\n",
        "  #Xo=np.copy(X)\n",
        "  XY,BEST_XY,BESTo,FOBESTo=AvaliaX(X)\n",
        "  nrow,ncol=X.shape\n",
        "\n",
        "  QUANT=17;MAT_INDo=np.zeros((1,QUANT)); # quantos indices esta fazendo\n",
        "  MAT_INDo[0,5]=nrow  # VALOR NP\n",
        "  MAT_INDo[0,6]=Fo    # VALOR Fo   \n",
        "  MAT_INDo[0,7]=CRo   # VALOR CRo\n",
        "  \n",
        "  \n",
        "\n",
        "  \n",
        "  MAT_INDo=GeraIndices(X,BESTo,FOBESTo,DIo,MAT_INDo,SOMA,TOTAL)\n",
        "  \n",
        "  DIo=np.copy(MAT_INDo[0,0])\n",
        "  pd.set_option('display.max_columns', 30)  \n",
        "  MAT_INDo[0,15]=Fo    # VALOR Fo   \n",
        "  MAT_INDo[0,16]=CRo   # VALOR CRo\n",
        "  MAT=[]\n",
        "  for loop in range(ITE):\n",
        "    X,BEST,FOBEST,XY,BEST_XY,SOMA= de_soma_Insight.de(MAX,MIN, mut, crossp,\n",
        "                                                      NPAR, its,Fun,X,SOMA,TOTAL)\n",
        "    \n",
        "    MAT_IND=GeraIndices(X,BESTo,FOBESTo,DIo,MAT_INDo,SOMA,TOTAL)\n",
        "    \n",
        "    BESTo=np.copy(BEST);FOBESTo=np.copy(FOBEST);\n",
        "    MAT.append(MAT_IND.ravel())\n",
        "    \n",
        "    MAT_INDo[0,6]=MAT_IND[0,15]   # VALOR Fo   \n",
        "    MAT_INDo[0,7]=MAT_IND[0,16]   # VALOR CRo\n",
        "    \n",
        "NOMES=['DIVERSIDADE (DI)',  'DI RELATIVO','FRAC Its',\n",
        "           'VELOC FOBJ','VELOC X','NP','Fo','CRo','fmin','fmax',\n",
        "           'AD_fmin','AD_fmax','DELTA FOBJ','DELTA VX','r_fitness',\n",
        "           'F','CR']\n",
        "df  = pd.DataFrame(MAT, columns=NOMES)\n",
        "pd.set_option('display.max_columns', 30)\n",
        "pd.set_option('display.max_rows', 30)\n",
        "print(df)"
      ],
      "execution_count": 0,
      "outputs": [
        {
          "output_type": "stream",
          "text": [
            "[0.28996276]\n",
            "[0.28996276]\n",
            "[1.87390313]\n",
            "[2.27185441]\n",
            "[2.19821182]\n",
            "[2.14961815]\n",
            "[2.13140603]\n",
            "   DIVERSIDADE (DI)  DI RELATIVO  FRAC Its  VELOC FOBJ  VELOC X    NP   Fo  \\\n",
            "0        447.700294     1.014645  0.166667         2.0      2.0  20.0  0.5   \n",
            "1        473.992099     1.074231  0.333333         0.0      0.0  20.0  1.0   \n",
            "2        465.992812     1.056102  0.500000         1.0      2.0  20.0  1.5   \n",
            "3        447.332307     1.013811  0.666667         2.0      2.0  20.0  2.0   \n",
            "4        480.984253     1.090078  0.833333         0.0      0.0  20.0  2.5   \n",
            "5        425.391549     0.964085  1.000000         0.0      0.0  20.0  3.0   \n",
            "\n",
            "    CRo        fmin         fmax  AD_fmin  AD_fmax  DELTA FOBJ  DELTA VX  \\\n",
            "0   0.5  188.458931  1100.704335      1.0      1.0         0.0       0.0   \n",
            "1   2.5  188.458931  1025.633361      1.0      1.0         0.0       0.0   \n",
            "2   4.5  148.524525  1025.633361      1.0      1.0         0.0       0.0   \n",
            "3   6.5    4.377295  1025.633361      1.0      1.0         0.0       0.0   \n",
            "4   8.5    4.377295   740.806724      1.0      1.0         0.0       0.0   \n",
            "5  10.5    4.377295   740.806724      1.0      1.0         0.0       0.0   \n",
            "\n",
            "   r_fitness    F    CR  \n",
            "0   0.828783  1.0   2.5  \n",
            "1   0.816251  1.5   4.5  \n",
            "2   0.855188  2.0   6.5  \n",
            "3   0.995732  2.5   8.5  \n",
            "4   0.994091  3.0  10.5  \n",
            "5   0.994091  3.5  12.5  \n"
          ],
          "name": "stdout"
        }
      ]
    },
    {
      "cell_type": "code",
      "metadata": {
        "id": "89nb0yyyy-SA",
        "colab_type": "code",
        "outputId": "665ae5f5-5b0b-48b8-b967-af0491707278",
        "colab": {
          "base_uri": "https://localhost:8080/",
          "height": 36
        }
      },
      "source": [
        "print(Fo)"
      ],
      "execution_count": 0,
      "outputs": [
        {
          "output_type": "stream",
          "text": [
            "0.5\n"
          ],
          "name": "stdout"
        }
      ]
    }
  ]
}