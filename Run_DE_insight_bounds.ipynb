{
  "nbformat": 4,
  "nbformat_minor": 0,
  "metadata": {
    "colab": {
      "name": "Run_DE_insight_bounds.ipynb",
      "provenance": [],
      "collapsed_sections": [],
      "include_colab_link": true
    },
    "kernelspec": {
      "name": "python3",
      "display_name": "Python 3"
    }
  },
  "cells": [
    {
      "cell_type": "markdown",
      "metadata": {
        "id": "view-in-github",
        "colab_type": "text"
      },
      "source": [
        "<a href=\"https://colab.research.google.com/github/ucfilho/optim_raianars_Insight_out_of_date/blob/master/Run_DE_insight_bounds.ipynb\" target=\"_parent\"><img src=\"https://colab.research.google.com/assets/colab-badge.svg\" alt=\"Open In Colab\"/></a>"
      ]
    },
    {
      "cell_type": "code",
      "metadata": {
        "id": "e9SUtOlp7WlE",
        "colab_type": "code",
        "outputId": "753110a6-6b82-45cb-bb2b-81f5aeccde8f",
        "colab": {
          "base_uri": "https://localhost:8080/",
          "height": 148
        }
      },
      "source": [
        "!git clone https://github.com/ucfilho/optim_raianars_Insight/ #clonar do Github\n",
        "%cd optim_raianars_Insight\n",
        "#!ls"
      ],
      "execution_count": 0,
      "outputs": [
        {
          "output_type": "stream",
          "text": [
            "Cloning into 'optim_raianars_Insight'...\n",
            "remote: Enumerating objects: 42, done.\u001b[K\n",
            "remote: Counting objects: 100% (42/42), done.\u001b[K\n",
            "remote: Compressing objects: 100% (40/40), done.\u001b[K\n",
            "remote: Total 42 (delta 21), reused 0 (delta 0), pack-reused 0\u001b[K\n",
            "Unpacking objects: 100% (42/42), done.\n",
            "/content/optim_raianars_Insight\n"
          ],
          "name": "stdout"
        }
      ]
    },
    {
      "cell_type": "code",
      "metadata": {
        "id": "1mImfgCL8AEj",
        "colab_type": "code",
        "colab": {}
      },
      "source": [
        "import numpy as np\n",
        "from random import randint\n",
        "import Function\n",
        "\n",
        "import de_bounds_matriz\n",
        "\n",
        "NPAR=50\n",
        "its=100\n",
        "mut=0.7\n",
        "crossp=0.5"
      ],
      "execution_count": 0,
      "outputs": []
    },
    {
      "cell_type": "code",
      "metadata": {
        "id": "eGjoDmXd7yib",
        "colab_type": "code",
        "colab": {}
      },
      "source": [
        "#'''\n",
        "dim=5\n",
        "Fun=Function.Schwefel\n",
        "MAX=np.repeat(500,dim)\n",
        "MIN=np.repeat(-500,dim)\n",
        "  #Global optimum: f(xi)= 0 for xi = 420.968746 for i=1,...,n  ;  xi in [-500,500]  \n",
        "#'''"
      ],
      "execution_count": 0,
      "outputs": []
    },
    {
      "cell_type": "code",
      "metadata": {
        "id": "xOUygQKJ87vI",
        "colab_type": "code",
        "outputId": "8b44f431-44cb-45d9-88b9-2b1830c079a3",
        "colab": {
          "base_uri": "https://localhost:8080/",
          "height": 73
        }
      },
      "source": [
        "PAR=len(MAX)\n",
        "pop = np.random.rand(NPAR, PAR)\n",
        "diff=np.zeros(PAR)\n",
        "\n",
        "bounds=np.zeros((dim, 2))\n",
        "for i in range(dim):\n",
        "  bounds[i,0] = MIN[i]\n",
        "  bounds[i,1] = MAX[i]\n",
        "  diff[i] = MAX[i]-MIN[i]\n",
        "\n",
        "X = MIN + pop * diff\n",
        "\n",
        "X,BEST,FOBEST,XY,BEST_XY= de_bounds_matriz.de(bounds, mut, crossp, NPAR, its,Fun,X)\n",
        "\n",
        "print(\"GlobalParam e Solucao final:\", BEST_XY)\n",
        "print(\"GlobalParam e Solucao final:\", BEST)\n"
      ],
      "execution_count": 0,
      "outputs": [
        {
          "output_type": "stream",
          "text": [
            "GlobalParam e Solucao final: [4.21428379e+02 4.20461899e+02 4.20925136e+02 4.21873118e+02\n",
            " 4.20766073e+02 1.67729788e-01]\n",
            "GlobalParam e Solucao final: [421.42837874 420.46189877 420.92513642 421.87311833 420.76607335]\n"
          ],
          "name": "stdout"
        }
      ]
    }
  ]
}