{
  "nbformat": 4,
  "nbformat_minor": 0,
  "metadata": {
    "colab": {
      "name": "DE_OPTIM_ANN_004_Insight.ipynb",
      "provenance": [],
      "collapsed_sections": [],
      "include_colab_link": true
    },
    "kernelspec": {
      "name": "python3",
      "display_name": "Python 3"
    },
    "language_info": {
      "codemirror_mode": {
        "name": "ipython",
        "version": 3
      },
      "file_extension": ".py",
      "mimetype": "text/x-python",
      "name": "python",
      "nbconvert_exporter": "python",
      "pygments_lexer": "ipython3",
      "version": "3.7.3"
    },
    "accelerator": "GPU"
  },
  "cells": [
    {
      "cell_type": "markdown",
      "metadata": {
        "id": "view-in-github",
        "colab_type": "text"
      },
      "source": [
        "<a href=\"https://colab.research.google.com/github/ucfilho/optim_raianars_Insight_out_of_date/blob/master/DE_OPTIM_ANN_004_Insight.ipynb\" target=\"_parent\"><img src=\"https://colab.research.google.com/assets/colab-badge.svg\" alt=\"Open In Colab\"/></a>"
      ]
    },
    {
      "cell_type": "code",
      "metadata": {
        "colab_type": "code",
        "id": "VNDZTKWUBOge",
        "outputId": "ceb96857-5cf2-4d78-923a-7682000eb1bd",
        "colab": {
          "base_uri": "https://localhost:8080/",
          "height": 36
        }
      },
      "source": [
        "############################### Importar códigos\n",
        "\n",
        "!git clone https://github.com/ucfilho/optim_raianars_Insight/ #clonar do Github"
      ],
      "execution_count": 0,
      "outputs": [
        {
          "output_type": "stream",
          "text": [
            "fatal: destination path 'optim_raianars_Insight' already exists and is not an empty directory.\n"
          ],
          "name": "stdout"
        }
      ]
    },
    {
      "cell_type": "code",
      "metadata": {
        "colab_type": "code",
        "id": "btZL0H3XBPx-",
        "outputId": "6d54d959-2baf-40cc-b866-c0f11e310ebe",
        "colab": {
          "base_uri": "https://localhost:8080/",
          "height": 36
        }
      },
      "source": [
        "%cd optim_raianars_Insight\n",
        "#!ls"
      ],
      "execution_count": 0,
      "outputs": [
        {
          "output_type": "stream",
          "text": [
            "/content/optim_raianars_Insight\n"
          ],
          "name": "stdout"
        }
      ]
    },
    {
      "cell_type": "code",
      "metadata": {
        "id": "DPPw3xXOut6g",
        "colab_type": "code",
        "colab": {}
      },
      "source": [
        "def AvaliaX(X):\n",
        "  nrow,ncol=X.shape\n",
        "  fitness = np.asarray([Fun(ind) for ind in X])\n",
        "  best_idx = np.argmin(fitness)\n",
        "  best = X[best_idx]\n",
        "  fobj_best = fitness[best_idx]\n",
        "  y=fitness\n",
        "  BEST=best\n",
        "  FOBEST=fobj_best\n",
        "  XY= np.c_[X,y] #concatena x e y em 2 colunas            \n",
        "  XYsorted = XY[XY[:,-1].argsort()] #Ordena a partir da last col(Y) for all row\n",
        "  x=XYsorted[:,0:ncol]\n",
        "  XY=XYsorted\n",
        "  BEST_XY =np.append(BEST,FOBEST)\n",
        "  return XY,BEST_XY,BEST,FOBEST"
      ],
      "execution_count": 0,
      "outputs": []
    },
    {
      "cell_type": "code",
      "metadata": {
        "id": "B7iwhNIlDXv2",
        "colab_type": "code",
        "colab": {}
      },
      "source": [
        "############################### Importar bibliotecas e iniciar a contagem do tempo\n",
        "import time\n",
        "import matplotlib.pyplot as plt\n",
        "import numpy as np\n",
        "from random import randint\n",
        "from scipy import optimize\n",
        "import de_bounds_matriz\n",
        "import de_soma_Insight\n",
        "import pandas as pd\n",
        "###############################"
      ],
      "execution_count": 0,
      "outputs": []
    },
    {
      "cell_type": "code",
      "metadata": {
        "colab_type": "code",
        "id": "v1OxgXboBKoG",
        "colab": {}
      },
      "source": [
        "############################### DADOS DE ENTRADA \n",
        "RUNS=1 #NÚMERO DE RODADAS\n",
        "#mut=0.8\n",
        "#crossp=0.7\n",
        "  ############################### Função\n",
        "import Function\n",
        "\n",
        "'''\n",
        "Fun=Function.Rosenbrock\n",
        "dim=30\n",
        "MAX=np.repeat(10,dim)\n",
        "MIN=np.repeat(-10,dim)\n",
        "\n",
        "  #Global optimum: f(xi)= 0\n",
        "'''\n",
        "'''\n",
        "dim=30\n",
        "Fun=Function.Sphere\n",
        "MAX=np.repeat(5.12,dim)\n",
        "MIN=np.repeat(-5.12,dim)\n",
        "  # f(x)=0 x=(0,0) [-5.12,5.12]\n",
        "'''\n",
        "#'''\n",
        "dim=2\n",
        "Fun=Function.Schwefel\n",
        "MAX=np.repeat(500,dim)\n",
        "MIN=np.repeat(-500,dim)\n",
        "  #Global optimum: f(xi)= 0 for xi = 420.968746 for i=1,...,n  ;  xi in [-500,500]  \n",
        "#'''\n",
        "'''\n",
        "dim=30\n",
        "Fun=Function.Rastrigin\n",
        "MAX=np.repeat(5.12,dim)\n",
        "MIN=np.repeat(-5.12,dim)\n",
        "  # f(x)=0 x=(0,0) [-5.12,5.12]\n",
        "'''\n",
        "'''\n",
        "dim=30\n",
        "Fun=Function.Sum_of_different_powers\n",
        "MAX=np.repeat(1,dim)\n",
        "MIN=np.repeat(-1,dim)\n",
        "  # f(x)=0 x=(0,0)\n",
        "'''\n",
        "'''  \n",
        "dim=30\n",
        "Fun=Function.Ackley\n",
        "MAX=np.repeat(32,dim)\n",
        "MIN=np.repeat(-32,dim)\n",
        " # f(x)=0 x=(0,0) [-32, 32]\n",
        "'''\n",
        "'''  \n",
        "dim=30\n",
        "Fun=Function.Michalewicz\n",
        "MAX=np.repeat(np.pi,dim)\n",
        "MIN=np.repeat(0,dim)\n",
        " #fx=-9.66015 p/ d=10 [0,pi]\n",
        "'''\n",
        "'''  \n",
        "dim=30\n",
        "Fun=Function.\n",
        "MAX=np.repeat(1,dim)\n",
        "MIN=np.repeat(-1,dim)\n",
        "'''\n",
        "\n",
        "PAR=len(MAX) #NUM DE PARAMETROS A SER OTIMIZADOS\n"
      ],
      "execution_count": 0,
      "outputs": []
    },
    {
      "cell_type": "code",
      "metadata": {
        "colab_type": "code",
        "id": "BDMwd41C5ahQ",
        "colab": {}
      },
      "source": [
        "def GeraIndices(X,BESTo,FOBESTo,MAT_INDo,SOMA,TOTAL):\n",
        "\n",
        "  Fo=MAT_INDo[0,15]  # MAT_IND[0,15] # valor de F que sai da rede\n",
        "  CRo=MAT_INDo[0,16] # MAT_IND[0,16] # valor de CR que sai da rede\n",
        "  DIo=MAT_INDo[0,0] #dispersao \n",
        "  QUANT=17 # quantos indices esta fazendo\n",
        "  MAT_IND=np.zeros((1,QUANT))\n",
        "  #MAT_INDi=np.zeros((1,QUANT))\n",
        "  SOLUCOES=np.zeros((1,dimensions))\n",
        "  SOLUCOESi=np.zeros((1,dimensions))\n",
        "\n",
        "  REF=0.1 # REFERENCIA DE DIFERENCAS ENTRE OS ELEMENTOS\n",
        "  nrow,ncol=X.shape\n",
        "  FOBESTm=1e99\n",
        "  XY,BEST_XY,BEST,FOBEST=AvaliaX(X)\n",
        "  soma=0\n",
        "  for j in range(ncol):\n",
        "    for i in range(nrow):\n",
        "        Xj=np.mean(X[:,j])\n",
        "        soma=soma+(X[i,j]-Xj)**2\n",
        "  # DI_ini=(soma/nrow)**0.5 a relativa precisa ser calculada fora do loop  FORA?\n",
        "  DI=(soma/nrow)**0.5\n",
        "  DIr=DI/DIo\n",
        "  MAT_IND[0,0]=DI #dispersao\n",
        "  MAT_IND[0,1]=DIr # dispersao relativa\n",
        "  MAT_IND[0,2]=SOMA/TOTAL # fracao relativa\n",
        "  # MAT_IND[0,3] velocidade relativa\n",
        "  V1=FOBESTo\n",
        "  V2=FOBEST\n",
        "  A=2*V2\n",
        "  if(V1 > A):\n",
        "    MAT_IND[0,3]=2 # o valor de fobj torna pelo menos duas vezes melhor\n",
        "  elif (V2==V1):\n",
        "    MAT_IND[0,3]=0 # o valor de fobj nao altera\n",
        "  else:\n",
        "    MAT_IND[0,3]=1 # o valor de fobj melhora mas menos que duas vezes\n",
        "  \n",
        "  # MAT_IND[0,4]  # VELOC X\n",
        "  DELTA=np.amax(abs(BEST-BESTo))\n",
        "  if( DELTA >REF):\n",
        "    MAT_IND[0,4]=2 # difere  for i in range(1,len(PARTIC)):\n",
        "  elif ( DELTA == 0):\n",
        "    MAT_IND[0,4]=0 # sem diferenca entre as posicoes do xbest entre duas buscas\n",
        "  else:\n",
        "    MAT_IND[0,4]=1 # diferenca entre as posicoes  do xbest menor que ref\n",
        "\n",
        "  MAT_IND[0,5]=nrow  # VALOR NP\n",
        "  MAT_IND[0,6]=Fo    # VALOR Fo   \n",
        "  MAT_IND[0,7]=CRo   # VALOR CRo\n",
        "  nrow,ncol=XY.shape\n",
        "  MAT_IND[0,8]=XY[0,(ncol-1)] # VALOR fmin\n",
        "  MAT_IND[0,9]=XY[(nrow-1),(ncol-1)] # VALOR fmax\n",
        "  # MAT_IND[0,10] # Valor AD_fmin \n",
        "  if abs(MAT_IND[0,8]/MAT_IND[0,8])>1:\n",
        "    MAT_IND[0,10]=1/abs(MAT_IND[0,8])\n",
        "  else:\n",
        "    MAT_IND[0,10]=MAT_IND[0,8]/MAT_IND[0,8]\n",
        "  # MAT_IND[0,11] # Valor AD_fmax\n",
        "  if abs(MAT_IND[0,9]/MAT_IND[0,9])>1: # tem que pegar primeira\n",
        "    MAT_IND[0,11]=1/abs(MAT_IND[0,9]) # tem que pegar primeira\n",
        "  else:\n",
        "    MAT_IND[0,11]=MAT_IND[0,9]/MAT_IND[0,9] # tem que pegar do anterior\n",
        "\n",
        "  # MAT_IND[0,12] # DELTA Fobj\n",
        "  MAT_IND[0,12]=MAT_IND[0,3]-MAT_IND[0,3]  # tem que pegar do anterior\n",
        "  \n",
        "\n",
        "  # MAT_IND[0,13] # DELTA Vx\n",
        "  MAT_IND[0,13]=MAT_IND[0,4]-MAT_IND[0,4]  # tem que pegar do anterior\n",
        "\n",
        "  # MAT_IND[0,14] # r_fitness\n",
        "  Fmin=0.05\n",
        "  if (MAT_IND[0,8]==0):\n",
        "    MAT_IND[0,14]=Fmin\n",
        "  elif (MAT_IND[0,9]==0):\n",
        "    MAT_IND[0,14]=Fmin\n",
        "  else:\n",
        "    if abs(MAT_IND[0,9]/MAT_IND[0,8])<1:\n",
        "      MAT_IND[0,14]=1-abs(MAT_IND[0,9]/MAT_IND[0,8])\n",
        "    else:\n",
        "      MAT_IND[0,14]=1-abs(MAT_IND[0,8]/MAT_IND[0,9])\n",
        "  # MAT_IND[0,15] # valor de F que sai da rede\n",
        "  MAT_IND[0,15]=Fo\n",
        "  # MAT_IND[0,16] # valor de CR que sai da rede\n",
        "  MAT_IND[0,16]=CRo\n",
        "  \n",
        "  return MAT_IND\n",
        "\n"
      ],
      "execution_count": 0,
      "outputs": []
    },
    {
      "cell_type": "code",
      "metadata": {
        "id": "Mb3LmbSmj9v7",
        "colab_type": "code",
        "outputId": "5bbbbdd8-dd55-40de-8eb6-2bc21d620678",
        "colab": {
          "base_uri": "https://localhost:8080/",
          "height": 747
        }
      },
      "source": [
        "##################################### IMPORTAR MÓDULOS\n",
        "\n",
        "NMAX=1000 # maximo tamanho da populacao\n",
        "\n",
        "dimensions=len(MAX)\n",
        "\n",
        "start_time = time.time() #INICIALIZA CONTAGEM DO TEMPO\n",
        "its=10 # quantas vezes vai usar o NPAR antes de alterar de novo\n",
        "ITE=10 # PONTOS quantas vezes vai alteral NPAR \n",
        "#PARTIC=[10,80,10,400,100,100,100,100,100,100]\n",
        "#ITE=50 # so para testar\n",
        "\n",
        "#TOTAL=7*dim*its*ITE\n",
        "TOTAL=10*dim*its*ITE\n",
        "\n",
        "maxiter=3\n",
        "popsize=5\n",
        "p=int(TOTAL/its/ITE) \n",
        "NPAR=p\n",
        "#PARTIC=np.zeros(ITE) # porque isto se eh redefinido mais em baixo e nao eh usado aqui\n",
        "MAX_P=np.zeros(ITE) # ATENCAO para variar F e Cr MAX_P passa a ser 3 vezes maior\n",
        "MIN_P=np.zeros(ITE) # ATENCAO para variar F e Cr  MIN_P passa a ser 3 vezes maior\n",
        "\n",
        "for i in range(dim):\n",
        "  MAX_P[i]=MAX[i] \n",
        "  MIN_P[i]=MIN[i]\n",
        "\n",
        "\n",
        "for i in range(RUNS):\n",
        "  SOMA=0\n",
        "  pop = np.random.rand(NPAR, dimensions)\n",
        "  diff=np.zeros(PAR)\n",
        "  for ii in range(PAR):\n",
        "    diff[ii] = MAX[ii]-MIN[ii]\n",
        "  X = MIN + pop * diff\n",
        "    \n",
        "  PONTOS=ITE # DIVISOES DA POPULACAO\n",
        " \n",
        " ############################################################\n",
        "  #bounds=[(5*dim, 15*dim)] * PONTOS # ITE\n",
        "  #bounds=[(3*dim, 12*dim)] * PONTOS # ITE\n",
        "  #bounds=[(4*dim, 16*dim)] * PONTOS\n",
        "  \n",
        "  # nao pode ser assim pq o bounds vale p o DE nao dos parametros\n",
        "  #p=int(TOTAL/its/ITE) \n",
        "  bounds=[(p, p)] * PONTOS\n",
        "  #bounds=[]\n",
        "  #for k in range(dim):\n",
        "  #  bounds.append((MIN[k], MAX[k]))\n",
        "  # print(\"=========bounds=\",bounds)\n",
        "    \n",
        "\n",
        "\n",
        "  '''\n",
        "  #Geral\n",
        "  new_mut=(0,1)\n",
        "  new_crossp=(0,1)\n",
        "  '''\n",
        "  #'''\n",
        "  #Multimodal Separável \n",
        "  new_mut=(0.5,1)\n",
        "  new_crossp=(0,0.5)\n",
        "  #'''\n",
        "  '''\n",
        "  #Multimodal Não Separável \n",
        "  new_mut=(0.5,1)\n",
        "  new_crossp=(0.5,1)\n",
        "  '''\n",
        "  '''\n",
        "  ##### Unimodal Separável\n",
        "  new_mut=(0,0.5)\n",
        "  new_crossp=(0,0.5)\n",
        "  '''\n",
        "  '''\n",
        "  ##### Unimodal Não Separável\n",
        "  new_mut=(0,0.5)\n",
        "  new_crossp=(0.5,1)\n",
        "  '''\n",
        " ############################################################ \n",
        "  # nao pode ser assim pq o bounds vale p o DE nao dos parametros\n",
        "  ''' '''\n",
        "  for j in range(PONTOS):\n",
        "    bounds.append(new_mut)\n",
        "    \n",
        "  for j in range(PONTOS):\n",
        "    bounds.append(new_crossp)\n",
        "\n",
        "  #print(\"=========bounds=\",bounds)\n",
        "  mut=0.5;crossp=0.5;\n",
        "  CRo=crossp;Fo=mut;\n",
        "  #Xo=np.copy(X)\n",
        "  XY,BEST_XY,BESTo,FOBESTo=AvaliaX(X)\n",
        "  DIo=1;\n",
        "  nrow,ncol=X.shape\n",
        "\n",
        "  QUANT=17;MAT_INDo=np.zeros((1,QUANT)); # quantos indices esta fazendo\n",
        "  MAT_INDo[0,5]=nrow  # VALOR NP\n",
        "  MAT_INDo[0,6]=Fo    # VALOR Fo   \n",
        "  MAT_INDo[0,7]=CRo   # VALOR CRo\n",
        "  MAT_INDo=GeraIndices(X,BESTo,FOBESTo,MAT_INDo,SOMA,TOTAL)\n",
        "  \n",
        "  #print(MAT_INDo)\n",
        "  MAT=[]\n",
        "  for loop in range(ITE):\n",
        "    X,BEST,FOBEST,XY,BEST_XY,SOMA= de_soma_Insight.de(MAX,MIN, mut, crossp,\n",
        "                                                      NPAR, its,Fun,X,SOMA,TOTAL)\n",
        "    MAT_IND=GeraIndices(X,BESTo,FOBESTo,MAT_INDo,SOMA,TOTAL)\n",
        "    BESTo=np.copy(BEST);FOBESTo=np.copy(FOBEST);\n",
        "    MAT.append(MAT_IND.ravel())\n",
        "    \n",
        "NOMES=['DIVERSIDADE (DI)',  'DI RELATIVO','FRAC Its',\n",
        "           'VELOC FOBJ','VELOC X','NP','Fo','CRo','fmin','fmax',\n",
        "           'AD_fmin','AD_fmax','DELTA FOBJ','DELTA VX','r_fitness',\n",
        "           'F','CR']\n",
        "df  = pd.DataFrame(MAT, columns=NOMES)\n",
        "pd.set_option('display.max_columns', 30)\n",
        "pd.set_option('display.max_rows', 30)\n",
        "print(df)"
      ],
      "execution_count": 0,
      "outputs": [
        {
          "output_type": "stream",
          "text": [
            "/usr/local/lib/python3.6/dist-packages/ipykernel_launcher.py:23: RuntimeWarning: divide by zero encountered in double_scalars\n"
          ],
          "name": "stderr"
        },
        {
          "output_type": "stream",
          "text": [
            "   DIVERSIDADE (DI)   DI RELATIVO  FRAC Its  VELOC FOBJ  VELOC X    NP   Fo  \\\n",
            "0      5.283257e+02  1.382830e+00       0.1         2.0      2.0  20.0  0.0   \n",
            "1      5.943091e+02  1.555534e+00       0.2         0.0      0.0  20.0  0.0   \n",
            "2      5.022845e+00  1.314671e-02       0.3         2.0      2.0  20.0  0.0   \n",
            "3      4.532687e-01  1.186377e-03       0.4         2.0      2.0  20.0  0.0   \n",
            "4      4.391981e-02  1.149549e-04       0.5         2.0      2.0  20.0  0.0   \n",
            "5      1.889887e-03  4.946556e-06       0.6         2.0      1.0  20.0  0.0   \n",
            "6      1.904921e-04  4.985906e-07       0.7         2.0      1.0  20.0  0.0   \n",
            "7      6.279530e-06  1.643593e-08       0.8         2.0      1.0  20.0  0.0   \n",
            "8      8.410349e-07  2.201310e-09       0.9         2.0      1.0  20.0  0.0   \n",
            "9      5.661180e-07  1.481747e-09       1.0         0.0      1.0  20.0  0.0   \n",
            "\n",
            "   CRo          fmin          fmax  AD_fmin  AD_fmax  DELTA FOBJ  DELTA VX  \\\n",
            "0  0.0  1.808925e+01  7.205569e+02      1.0      1.0         0.0       0.0   \n",
            "1  0.0  1.808925e+01  4.767875e+02      1.0      1.0         0.0       0.0   \n",
            "2  0.0  4.416447e-01  3.651835e+01      1.0      1.0         0.0       0.0   \n",
            "3  0.0  2.536590e-03  1.163458e-01      1.0      1.0         0.0       0.0   \n",
            "4  0.0  7.030829e-06  9.437842e-04      1.0      1.0         0.0       0.0   \n",
            "5  0.0  1.321678e-08  4.393102e-06      1.0      1.0         0.0       0.0   \n",
            "6  0.0  9.094947e-13  5.512607e-08      1.0      1.0         0.0       0.0   \n",
            "7  0.0  3.410605e-13  1.682565e-11      1.0      1.0         0.0       0.0   \n",
            "8  0.0  0.000000e+00  4.547474e-13      NaN      1.0         0.0       0.0   \n",
            "9  0.0  0.000000e+00  2.273737e-13      NaN      1.0         0.0       0.0   \n",
            "\n",
            "   r_fitness    F   CR  \n",
            "0   0.974895  0.0  0.0  \n",
            "1   0.962060  0.0  0.0  \n",
            "2   0.987906  0.0  0.0  \n",
            "3   0.978198  0.0  0.0  \n",
            "4   0.992550  0.0  0.0  \n",
            "5   0.996991  0.0  0.0  \n",
            "6   0.999984  0.0  0.0  \n",
            "7   0.979730  0.0  0.0  \n",
            "8   0.050000  0.0  0.0  \n",
            "9   0.050000  0.0  0.0  \n"
          ],
          "name": "stdout"
        },
        {
          "output_type": "stream",
          "text": [
            "/usr/local/lib/python3.6/dist-packages/ipykernel_launcher.py:54: RuntimeWarning: invalid value encountered in double_scalars\n",
            "/usr/local/lib/python3.6/dist-packages/ipykernel_launcher.py:57: RuntimeWarning: invalid value encountered in double_scalars\n"
          ],
          "name": "stderr"
        }
      ]
    },
    {
      "cell_type": "code",
      "metadata": {
        "id": "acsu3d48MxkF",
        "colab_type": "code",
        "outputId": "f3a13e59-b965-49cc-d879-7df38266251c",
        "colab": {
          "base_uri": "https://localhost:8080/",
          "height": 801
        }
      },
      "source": [
        "print(MAT)\n",
        "print(type(MAT))"
      ],
      "execution_count": 0,
      "outputs": [
        {
          "output_type": "stream",
          "text": [
            "[array([5.28325739e+02, 1.38283046e+00, 1.00000000e-01, 2.00000000e+00,\n",
            "       2.00000000e+00, 2.00000000e+01, 0.00000000e+00, 0.00000000e+00,\n",
            "       1.80892464e+01, 7.20556855e+02, 1.00000000e+00, 1.00000000e+00,\n",
            "       0.00000000e+00, 0.00000000e+00, 9.74895463e-01, 0.00000000e+00,\n",
            "       0.00000000e+00]), array([5.94309050e+02, 1.55553402e+00, 2.00000000e-01, 0.00000000e+00,\n",
            "       0.00000000e+00, 2.00000000e+01, 0.00000000e+00, 0.00000000e+00,\n",
            "       1.80892464e+01, 4.76787457e+02, 1.00000000e+00, 1.00000000e+00,\n",
            "       0.00000000e+00, 0.00000000e+00, 9.62060146e-01, 0.00000000e+00,\n",
            "       0.00000000e+00]), array([5.02284507e+00, 1.31467060e-02, 3.00000000e-01, 2.00000000e+00,\n",
            "       2.00000000e+00, 2.00000000e+01, 0.00000000e+00, 0.00000000e+00,\n",
            "       4.41644663e-01, 3.65183464e+01, 1.00000000e+00, 1.00000000e+00,\n",
            "       0.00000000e+00, 0.00000000e+00, 9.87906225e-01, 0.00000000e+00,\n",
            "       0.00000000e+00]), array([4.53268693e-01, 1.18637747e-03, 4.00000000e-01, 2.00000000e+00,\n",
            "       2.00000000e+00, 2.00000000e+01, 0.00000000e+00, 0.00000000e+00,\n",
            "       2.53658994e-03, 1.16345842e-01, 1.00000000e+00, 1.00000000e+00,\n",
            "       0.00000000e+00, 0.00000000e+00, 9.78197846e-01, 0.00000000e+00,\n",
            "       0.00000000e+00]), array([4.39198085e-02, 1.14954931e-04, 5.00000000e-01, 2.00000000e+00,\n",
            "       2.00000000e+00, 2.00000000e+01, 0.00000000e+00, 0.00000000e+00,\n",
            "       7.03082924e-06, 9.43784223e-04, 1.00000000e+00, 1.00000000e+00,\n",
            "       0.00000000e+00, 0.00000000e+00, 9.92550385e-01, 0.00000000e+00,\n",
            "       0.00000000e+00]), array([1.88988682e-03, 4.94655639e-06, 6.00000000e-01, 2.00000000e+00,\n",
            "       1.00000000e+00, 2.00000000e+01, 0.00000000e+00, 0.00000000e+00,\n",
            "       1.32167770e-08, 4.39310202e-06, 1.00000000e+00, 1.00000000e+00,\n",
            "       0.00000000e+00, 0.00000000e+00, 9.96991471e-01, 0.00000000e+00,\n",
            "       0.00000000e+00]), array([1.90492085e-04, 4.98590621e-07, 7.00000000e-01, 2.00000000e+00,\n",
            "       1.00000000e+00, 2.00000000e+01, 0.00000000e+00, 0.00000000e+00,\n",
            "       9.09494702e-13, 5.51260655e-08, 1.00000000e+00, 1.00000000e+00,\n",
            "       0.00000000e+00, 0.00000000e+00, 9.99983502e-01, 0.00000000e+00,\n",
            "       0.00000000e+00]), array([6.27952984e-06, 1.64359305e-08, 8.00000000e-01, 2.00000000e+00,\n",
            "       1.00000000e+00, 2.00000000e+01, 0.00000000e+00, 0.00000000e+00,\n",
            "       3.41060513e-13, 1.68256520e-11, 1.00000000e+00, 1.00000000e+00,\n",
            "       0.00000000e+00, 0.00000000e+00, 9.79729730e-01, 0.00000000e+00,\n",
            "       0.00000000e+00]), array([8.41034901e-07, 2.20130990e-09, 9.00000000e-01, 2.00000000e+00,\n",
            "       1.00000000e+00, 2.00000000e+01, 0.00000000e+00, 0.00000000e+00,\n",
            "       0.00000000e+00, 4.54747351e-13,            nan, 1.00000000e+00,\n",
            "       0.00000000e+00, 0.00000000e+00, 5.00000000e-02, 0.00000000e+00,\n",
            "       0.00000000e+00]), array([5.66118030e-07, 1.48174734e-09, 1.00000000e+00, 0.00000000e+00,\n",
            "       1.00000000e+00, 2.00000000e+01, 0.00000000e+00, 0.00000000e+00,\n",
            "       0.00000000e+00, 2.27373675e-13,            nan, 1.00000000e+00,\n",
            "       0.00000000e+00, 0.00000000e+00, 5.00000000e-02, 0.00000000e+00,\n",
            "       0.00000000e+00])]\n",
            "<class 'list'>\n"
          ],
          "name": "stdout"
        }
      ]
    },
    {
      "cell_type": "code",
      "metadata": {
        "id": "jnBeTUCHNNgH",
        "colab_type": "code",
        "outputId": "6cb614b4-0b0a-4bf4-b524-c65e09662341",
        "colab": {
          "base_uri": "https://localhost:8080/",
          "height": 204
        }
      },
      "source": [
        "print(MAT_IND.ravel())\n",
        "print(MAT_IND)"
      ],
      "execution_count": 0,
      "outputs": [
        {
          "output_type": "stream",
          "text": [
            "[5.66118030e-07 1.48174734e-09 1.00000000e+00 0.00000000e+00\n",
            " 1.00000000e+00 2.00000000e+01 0.00000000e+00 0.00000000e+00\n",
            " 0.00000000e+00 2.27373675e-13            nan 1.00000000e+00\n",
            " 0.00000000e+00 0.00000000e+00 5.00000000e-02 0.00000000e+00\n",
            " 0.00000000e+00]\n",
            "[[5.66118030e-07 1.48174734e-09 1.00000000e+00 0.00000000e+00\n",
            "  1.00000000e+00 2.00000000e+01 0.00000000e+00 0.00000000e+00\n",
            "  0.00000000e+00 2.27373675e-13            nan 1.00000000e+00\n",
            "  0.00000000e+00 0.00000000e+00 5.00000000e-02 0.00000000e+00\n",
            "  0.00000000e+00]]\n"
          ],
          "name": "stdout"
        }
      ]
    },
    {
      "cell_type": "code",
      "metadata": {
        "id": "pBrttr8Nz2X8",
        "colab_type": "code",
        "outputId": "ae7701e8-14c6-426c-bb87-32d55702f3f8",
        "colab": {
          "base_uri": "https://localhost:8080/",
          "height": 111
        }
      },
      "source": [
        "pd.set_option('display.max_columns', 30)\n",
        "pd.set_option('display.max_rows', 30)\n",
        "\n",
        "print(pd.DataFrame(MAT_IND))"
      ],
      "execution_count": 0,
      "outputs": [
        {
          "output_type": "stream",
          "text": [
            "             0             1    2    3    4     5    6    7    8   \\\n",
            "0  5.661180e-07  1.481747e-09  1.0  0.0  1.0  20.0  0.0  0.0  0.0   \n",
            "\n",
            "             9   10   11   12   13    14   15   16  \n",
            "0  2.273737e-13 NaN  1.0  0.0  0.0  0.05  0.0  0.0  \n"
          ],
          "name": "stdout"
        }
      ]
    },
    {
      "cell_type": "code",
      "metadata": {
        "id": "v8WzaU6k9MZl",
        "colab_type": "code",
        "outputId": "6611794b-e6f0-4161-b0fc-ef46c4e54075",
        "colab": {
          "base_uri": "https://localhost:8080/",
          "height": 36
        }
      },
      "source": [
        "XY.shape"
      ],
      "execution_count": 0,
      "outputs": [
        {
          "output_type": "execute_result",
          "data": {
            "text/plain": [
              "(20, 3)"
            ]
          },
          "metadata": {
            "tags": []
          },
          "execution_count": 11
        }
      ]
    },
    {
      "cell_type": "code",
      "metadata": {
        "id": "p3JNQRrQmqpN",
        "colab_type": "code",
        "outputId": "c2b2a9fc-ec56-4f95-8c6a-52eed40c511d",
        "colab": {
          "base_uri": "https://localhost:8080/",
          "height": 55
        }
      },
      "source": [
        "nrow,ncol=X.shape\n",
        "print(nrow);print(ncol)"
      ],
      "execution_count": 0,
      "outputs": [
        {
          "output_type": "stream",
          "text": [
            "20\n",
            "2\n"
          ],
          "name": "stdout"
        }
      ]
    }
  ]
}